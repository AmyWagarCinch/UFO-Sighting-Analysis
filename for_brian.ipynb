{
 "cells": [
  {
   "cell_type": "code",
   "execution_count": null,
   "metadata": {},
   "outputs": [],
   "source": [
    "from census import Census\n",
    "\n",
    "# Census API Key\n",
    "from config import api_key\n",
    "c = Census(api_key, year=2013)"
   ]
  },
  {
   "cell_type": "code",
   "execution_count": null,
   "metadata": {},
   "outputs": [],
   "source": [
    "#gets population for states\n",
    "census_data = c.acs5.get((\"NAME\", \"B01003_001E\"), {'for': 'state:*'})\n",
    "\n",
    "#gets population for every single zip code\n",
    "#we can use this if we want to narrow down to the city level\n",
    "#would have to find the zipcode from the data first\n",
    "\n",
    "census_data = c.acs5.get((\"NAME\", \"B01003_001E\"), {'for': 'zip code tabulation area:*'})\n",
    "\n"
   ]
  }
 ],
 "metadata": {
  "kernelspec": {
   "display_name": "Python 3",
   "language": "python",
   "name": "python3"
  },
  "language_info": {
   "codemirror_mode": {
    "name": "ipython",
    "version": 3
   },
   "file_extension": ".py",
   "mimetype": "text/x-python",
   "name": "python",
   "nbconvert_exporter": "python",
   "pygments_lexer": "ipython3",
   "version": "3.6.10"
  }
 },
 "nbformat": 4,
 "nbformat_minor": 2
}
