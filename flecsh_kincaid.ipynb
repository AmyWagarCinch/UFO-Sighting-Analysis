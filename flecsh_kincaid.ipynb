{
 "metadata": {
  "language_info": {
   "codemirror_mode": {
    "name": "ipython",
    "version": 3
   },
   "file_extension": ".py",
   "mimetype": "text/x-python",
   "name": "python",
   "nbconvert_exporter": "python",
   "pygments_lexer": "ipython3",
   "version": "3.8.3-final"
  },
  "orig_nbformat": 2,
  "kernelspec": {
   "name": "python3",
   "display_name": "Python 3",
   "language": "python"
  }
 },
 "nbformat": 4,
 "nbformat_minor": 2,
 "cells": [
  {
   "cell_type": "code",
   "execution_count": 1,
   "metadata": {},
   "outputs": [],
   "source": [
    "import pandas as pd \n",
    "from fkscore import fkscore"
   ]
  },
  {
   "cell_type": "code",
   "execution_count": 2,
   "metadata": {},
   "outputs": [],
   "source": [
    "data = 'Resources/scrubbed.csv'\n",
    "df = pd.read_csv(data)"
   ]
  },
  {
   "cell_type": "code",
   "execution_count": 3,
   "metadata": {},
   "outputs": [],
   "source": [
    "df_comments = df[['comments']]\n",
    "df_comments['score'] = ''"
   ]
  },
  {
   "cell_type": "code",
   "execution_count": 4,
   "metadata": {},
   "outputs": [
    {
     "output_type": "stream",
     "name": "stdout",
     "text": [
      "This event took place in early fall around 1949-50. It occurred after a Boy Scout meeting in the Baptist Church. The Baptist Church sit\n"
     ]
    }
   ],
   "source": [
    "text = df_comments.iloc[0,0]\n",
    "print(text)"
   ]
  },
  {
   "cell_type": "code",
   "execution_count": 6,
   "metadata": {},
   "outputs": [
    {
     "output_type": "stream",
     "name": "stdout",
     "text": [
      "{'num_sentences': 3, 'num_words': 26, 'num_syllables': 33}\n{'readability': 90.661, 'grade': '5th Grade'}\n"
     ]
    }
   ],
   "source": [
    "f = fkscore(text)\n",
    "print(f.stats)\n",
    "print(f.score)"
   ]
  },
  {
   "cell_type": "code",
   "execution_count": 5,
   "metadata": {},
   "outputs": [
    {
     "output_type": "execute_result",
     "data": {
      "text/plain": [
       "                                            comments score\n",
       "0  This event took place in early fall around 194...      \n",
       "1  1949 Lackland AFB&#44 TX.  Lights racing acros...      \n",
       "2  Green/Orange circular disc over Chester&#44 En...      \n",
       "3  My older brother and twin sister were leaving ...      \n",
       "4  AS a Marine 1st Lt. flying an FJ4B fighter/att...      "
      ],
      "text/html": "<div>\n<style scoped>\n    .dataframe tbody tr th:only-of-type {\n        vertical-align: middle;\n    }\n\n    .dataframe tbody tr th {\n        vertical-align: top;\n    }\n\n    .dataframe thead th {\n        text-align: right;\n    }\n</style>\n<table border=\"1\" class=\"dataframe\">\n  <thead>\n    <tr style=\"text-align: right;\">\n      <th></th>\n      <th>comments</th>\n      <th>score</th>\n    </tr>\n  </thead>\n  <tbody>\n    <tr>\n      <th>0</th>\n      <td>This event took place in early fall around 194...</td>\n      <td></td>\n    </tr>\n    <tr>\n      <th>1</th>\n      <td>1949 Lackland AFB&amp;#44 TX.  Lights racing acros...</td>\n      <td></td>\n    </tr>\n    <tr>\n      <th>2</th>\n      <td>Green/Orange circular disc over Chester&amp;#44 En...</td>\n      <td></td>\n    </tr>\n    <tr>\n      <th>3</th>\n      <td>My older brother and twin sister were leaving ...</td>\n      <td></td>\n    </tr>\n    <tr>\n      <th>4</th>\n      <td>AS a Marine 1st Lt. flying an FJ4B fighter/att...</td>\n      <td></td>\n    </tr>\n  </tbody>\n</table>\n</div>"
     },
     "metadata": {},
     "execution_count": 5
    }
   ],
   "source": [
    "df_comments.head()"
   ]
  },
  {
   "cell_type": "code",
   "execution_count": null,
   "metadata": {},
   "outputs": [],
   "source": []
  }
 ]
}