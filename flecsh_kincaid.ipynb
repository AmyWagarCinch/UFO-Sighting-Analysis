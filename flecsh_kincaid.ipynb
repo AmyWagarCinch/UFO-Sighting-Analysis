{
 "metadata": {
  "language_info": {
   "codemirror_mode": {
    "name": "ipython",
    "version": 3
   },
   "file_extension": ".py",
   "mimetype": "text/x-python",
   "name": "python",
   "nbconvert_exporter": "python",
   "pygments_lexer": "ipython3",
   "version": "3.8.3-final"
  },
  "orig_nbformat": 2,
  "kernelspec": {
   "name": "python3",
   "display_name": "Python 3",
   "language": "python"
  }
 },
 "nbformat": 4,
 "nbformat_minor": 2,
 "cells": [
  {
   "cell_type": "code",
   "execution_count": 1,
   "metadata": {},
   "outputs": [],
   "source": [
    "import pandas as pd \n",
    "from fkscore import fkscore"
   ]
  },
  {
   "cell_type": "code",
   "execution_count": 2,
   "metadata": {},
   "outputs": [],
   "source": [
    "data = 'Resources/scrubbed.csv'\n",
    "data2 = 'Resources/current_data.csv'\n",
    "df = pd.read_csv(data)\n",
    "df2 = pd.read_csv(data2)"
   ]
  },
  {
   "cell_type": "code",
   "execution_count": 9,
   "metadata": {},
   "outputs": [],
   "source": [
    "df_comments = df[['comments']]\n",
    "df_comments['grade'] = ''\n",
    "\n",
    "df2_comments = df2[['text']]\n",
    "df2_comments['grade'] = ''"
   ]
  },
  {
   "cell_type": "code",
   "execution_count": 14,
   "metadata": {},
   "outputs": [],
   "source": [
    "for index,row in df_comments.iterrows():\n",
    "    try:\n",
    "        text = str(df_comments.loc[index,'comments'])\n",
    "        f=fkscore(text)\n",
    "        df_comments.loc[index,'grade'] = f.score['grade']\n",
    "    except ZeroDivisionError:\n",
    "        df_comments.loc[index,'grade'] = 'Unknown'"
   ]
  },
  {
   "cell_type": "code",
   "execution_count": 8,
   "metadata": {},
   "outputs": [
    {
     "output_type": "stream",
     "name": "stdout",
     "text": [
      "{'num_sentences': 2, 'num_words': 19, 'num_syllables': 21}\n{'readability': 103.687, 'grade': '5th Grade'}\n---------------------------------------------\n{'num_sentences': 6, 'num_words': 68, 'num_syllables': 83}\n{'readability': 92.07, 'grade': '5th Grade'}\n"
     ]
    }
   ],
   "source": [
    "f = fkscore(text)\n",
    "f2 = fkscore(text2)\n",
    "print(f.stats)\n",
    "print(f.score)\n",
    "print('---------------------------------------------')\n",
    "print(f2.stats)\n",
    "print(f2.score)"
   ]
  },
  {
   "cell_type": "code",
   "execution_count": 15,
   "metadata": {},
   "outputs": [
    {
     "output_type": "execute_result",
     "data": {
      "text/plain": [
       "                                            comments             grade\n",
       "0  This event took place in early fall around 194...         5th Grade\n",
       "1  1949 Lackland AFB&#44 TX.  Lights racing acros...         5th Grade\n",
       "2  Green/Orange circular disc over Chester&#44 En...  College Graduate\n",
       "3  My older brother and twin sister were leaving ...         9th Grade\n",
       "4  AS a Marine 1st Lt. flying an FJ4B fighter/att...         9th Grade"
      ],
      "text/html": "<div>\n<style scoped>\n    .dataframe tbody tr th:only-of-type {\n        vertical-align: middle;\n    }\n\n    .dataframe tbody tr th {\n        vertical-align: top;\n    }\n\n    .dataframe thead th {\n        text-align: right;\n    }\n</style>\n<table border=\"1\" class=\"dataframe\">\n  <thead>\n    <tr style=\"text-align: right;\">\n      <th></th>\n      <th>comments</th>\n      <th>grade</th>\n    </tr>\n  </thead>\n  <tbody>\n    <tr>\n      <th>0</th>\n      <td>This event took place in early fall around 194...</td>\n      <td>5th Grade</td>\n    </tr>\n    <tr>\n      <th>1</th>\n      <td>1949 Lackland AFB&amp;#44 TX.  Lights racing acros...</td>\n      <td>5th Grade</td>\n    </tr>\n    <tr>\n      <th>2</th>\n      <td>Green/Orange circular disc over Chester&amp;#44 En...</td>\n      <td>College Graduate</td>\n    </tr>\n    <tr>\n      <th>3</th>\n      <td>My older brother and twin sister were leaving ...</td>\n      <td>9th Grade</td>\n    </tr>\n    <tr>\n      <th>4</th>\n      <td>AS a Marine 1st Lt. flying an FJ4B fighter/att...</td>\n      <td>9th Grade</td>\n    </tr>\n  </tbody>\n</table>\n</div>"
     },
     "metadata": {},
     "execution_count": 15
    }
   ],
   "source": [
    "df_comments.head()"
   ]
  },
  {
   "cell_type": "code",
   "execution_count": 16,
   "metadata": {},
   "outputs": [],
   "source": [
    "for index,row in df2_comments.iterrows():\n",
    "    try:\n",
    "        text = str(df2_comments.loc[index,'text'])\n",
    "        f=fkscore(text)\n",
    "        df2_comments.loc[index,'grade'] = f.score['grade']\n",
    "    except ZeroDivisionError:\n",
    "        df2_comments.loc[index,'grade'] = 'Unknown'"
   ]
  },
  {
   "cell_type": "code",
   "execution_count": 17,
   "metadata": {},
   "outputs": [
    {
     "output_type": "execute_result",
     "data": {
      "text/plain": [
       "                                                text          grade\n",
       "0  Translucent cylindrical silent aircraft Seen n...  College Level\n",
       "1  Tonight around 11 pm i walked outside to see i...      5th Grade\n",
       "2  4 triangular sightings with different light pa...      7th Grade\n",
       "3  Bright orange lights seen by a family of 4 in ...      7th Grade\n",
       "4                                     MADAR Node 145      5th Grade"
      ],
      "text/html": "<div>\n<style scoped>\n    .dataframe tbody tr th:only-of-type {\n        vertical-align: middle;\n    }\n\n    .dataframe tbody tr th {\n        vertical-align: top;\n    }\n\n    .dataframe thead th {\n        text-align: right;\n    }\n</style>\n<table border=\"1\" class=\"dataframe\">\n  <thead>\n    <tr style=\"text-align: right;\">\n      <th></th>\n      <th>text</th>\n      <th>grade</th>\n    </tr>\n  </thead>\n  <tbody>\n    <tr>\n      <th>0</th>\n      <td>Translucent cylindrical silent aircraft Seen n...</td>\n      <td>College Level</td>\n    </tr>\n    <tr>\n      <th>1</th>\n      <td>Tonight around 11 pm i walked outside to see i...</td>\n      <td>5th Grade</td>\n    </tr>\n    <tr>\n      <th>2</th>\n      <td>4 triangular sightings with different light pa...</td>\n      <td>7th Grade</td>\n    </tr>\n    <tr>\n      <th>3</th>\n      <td>Bright orange lights seen by a family of 4 in ...</td>\n      <td>7th Grade</td>\n    </tr>\n    <tr>\n      <th>4</th>\n      <td>MADAR Node 145</td>\n      <td>5th Grade</td>\n    </tr>\n  </tbody>\n</table>\n</div>"
     },
     "metadata": {},
     "execution_count": 17
    }
   ],
   "source": [
    "df2_comments.head()"
   ]
  },
  {
   "cell_type": "code",
   "execution_count": null,
   "metadata": {},
   "outputs": [],
   "source": []
  }
 ]
}