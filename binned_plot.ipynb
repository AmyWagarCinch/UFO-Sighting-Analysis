{
 "cells": [
  {
   "cell_type": "code",
   "execution_count": 1,
   "metadata": {},
   "outputs": [],
   "source": [
    "import pandas as pd\n",
    "ufo_doc= \"Resources/scrubbed.csv\"\n"
   ]
  },
  {
   "cell_type": "code",
   "execution_count": 2,
   "metadata": {},
   "outputs": [
    {
     "output_type": "execute_result",
     "data": {
      "text/plain": [
       "           datetime                  city state country     shape  \\\n",
       "0  10/10/1949 20:30            san marcos    tx      us  cylinder   \n",
       "1  10/10/1949 21:00          lackland afb    tx     NaN     light   \n",
       "2  10/10/1955 17:00  chester (uk/england)   NaN      gb    circle   \n",
       "3  10/10/1956 21:00                  edna    tx      us    circle   \n",
       "4  10/10/1960 20:00               kaneohe    hi      us     light   \n",
       "\n",
       "  duration (seconds) duration (hours/min)  \\\n",
       "0               2700           45 minutes   \n",
       "1               7200              1-2 hrs   \n",
       "2                 20           20 seconds   \n",
       "3                 20             1/2 hour   \n",
       "4                900           15 minutes   \n",
       "\n",
       "                                            comments date posted    latitude  \\\n",
       "0  This event took place in early fall around 194...   4/27/2004  29.8830556   \n",
       "1  1949 Lackland AFB&#44 TX.  Lights racing acros...  12/16/2005    29.38421   \n",
       "2  Green/Orange circular disc over Chester&#44 En...   1/21/2008        53.2   \n",
       "3  My older brother and twin sister were leaving ...   1/17/2004  28.9783333   \n",
       "4  AS a Marine 1st Lt. flying an FJ4B fighter/att...   1/22/2004  21.4180556   \n",
       "\n",
       "   longitude   \n",
       "0  -97.941111  \n",
       "1  -98.581082  \n",
       "2   -2.916667  \n",
       "3  -96.645833  \n",
       "4 -157.803611  "
      ],
      "text/html": "<div>\n<style scoped>\n    .dataframe tbody tr th:only-of-type {\n        vertical-align: middle;\n    }\n\n    .dataframe tbody tr th {\n        vertical-align: top;\n    }\n\n    .dataframe thead th {\n        text-align: right;\n    }\n</style>\n<table border=\"1\" class=\"dataframe\">\n  <thead>\n    <tr style=\"text-align: right;\">\n      <th></th>\n      <th>datetime</th>\n      <th>city</th>\n      <th>state</th>\n      <th>country</th>\n      <th>shape</th>\n      <th>duration (seconds)</th>\n      <th>duration (hours/min)</th>\n      <th>comments</th>\n      <th>date posted</th>\n      <th>latitude</th>\n      <th>longitude</th>\n    </tr>\n  </thead>\n  <tbody>\n    <tr>\n      <th>0</th>\n      <td>10/10/1949 20:30</td>\n      <td>san marcos</td>\n      <td>tx</td>\n      <td>us</td>\n      <td>cylinder</td>\n      <td>2700</td>\n      <td>45 minutes</td>\n      <td>This event took place in early fall around 194...</td>\n      <td>4/27/2004</td>\n      <td>29.8830556</td>\n      <td>-97.941111</td>\n    </tr>\n    <tr>\n      <th>1</th>\n      <td>10/10/1949 21:00</td>\n      <td>lackland afb</td>\n      <td>tx</td>\n      <td>NaN</td>\n      <td>light</td>\n      <td>7200</td>\n      <td>1-2 hrs</td>\n      <td>1949 Lackland AFB&amp;#44 TX.  Lights racing acros...</td>\n      <td>12/16/2005</td>\n      <td>29.38421</td>\n      <td>-98.581082</td>\n    </tr>\n    <tr>\n      <th>2</th>\n      <td>10/10/1955 17:00</td>\n      <td>chester (uk/england)</td>\n      <td>NaN</td>\n      <td>gb</td>\n      <td>circle</td>\n      <td>20</td>\n      <td>20 seconds</td>\n      <td>Green/Orange circular disc over Chester&amp;#44 En...</td>\n      <td>1/21/2008</td>\n      <td>53.2</td>\n      <td>-2.916667</td>\n    </tr>\n    <tr>\n      <th>3</th>\n      <td>10/10/1956 21:00</td>\n      <td>edna</td>\n      <td>tx</td>\n      <td>us</td>\n      <td>circle</td>\n      <td>20</td>\n      <td>1/2 hour</td>\n      <td>My older brother and twin sister were leaving ...</td>\n      <td>1/17/2004</td>\n      <td>28.9783333</td>\n      <td>-96.645833</td>\n    </tr>\n    <tr>\n      <th>4</th>\n      <td>10/10/1960 20:00</td>\n      <td>kaneohe</td>\n      <td>hi</td>\n      <td>us</td>\n      <td>light</td>\n      <td>900</td>\n      <td>15 minutes</td>\n      <td>AS a Marine 1st Lt. flying an FJ4B fighter/att...</td>\n      <td>1/22/2004</td>\n      <td>21.4180556</td>\n      <td>-157.803611</td>\n    </tr>\n  </tbody>\n</table>\n</div>"
     },
     "metadata": {},
     "execution_count": 2
    }
   ],
   "source": [
    "ufo_df = pd.read_csv(ufo_doc, encoding=\"ISO-8859-1\")\n",
    "ufo_df.head()"
   ]
  },
  {
   "cell_type": "code",
   "execution_count": 51,
   "metadata": {},
   "outputs": [],
   "source": [
    "#list(ufo_df.columns.values\n",
    "#ufo_df = ufo_df.datetime.str.split(\" \",expand=True,)\n",
    "#ufo_df\n",
    "#ufo_df = ufo_df['datetime'].apply(lambda x: pd.Series(x.split(' ')))\n",
    "#ufo_df.head()"
   ]
  },
  {
   "cell_type": "code",
   "execution_count": null,
   "metadata": {},
   "outputs": [],
   "source": []
  },
  {
   "cell_type": "code",
   "execution_count": 3,
   "metadata": {},
   "outputs": [
    {
     "output_type": "execute_result",
     "data": {
      "text/plain": [
       "      0      1\n",
       "0  1949  20:30\n",
       "3  1956  21:00\n",
       "4  1960  20:00\n",
       "5  1961  19:00\n",
       "7  1965  23:45"
      ],
      "text/html": "<div>\n<style scoped>\n    .dataframe tbody tr th:only-of-type {\n        vertical-align: middle;\n    }\n\n    .dataframe tbody tr th {\n        vertical-align: top;\n    }\n\n    .dataframe thead th {\n        text-align: right;\n    }\n</style>\n<table border=\"1\" class=\"dataframe\">\n  <thead>\n    <tr style=\"text-align: right;\">\n      <th></th>\n      <th>0</th>\n      <th>1</th>\n    </tr>\n  </thead>\n  <tbody>\n    <tr>\n      <th>0</th>\n      <td>1949</td>\n      <td>20:30</td>\n    </tr>\n    <tr>\n      <th>3</th>\n      <td>1956</td>\n      <td>21:00</td>\n    </tr>\n    <tr>\n      <th>4</th>\n      <td>1960</td>\n      <td>20:00</td>\n    </tr>\n    <tr>\n      <th>5</th>\n      <td>1961</td>\n      <td>19:00</td>\n    </tr>\n    <tr>\n      <th>7</th>\n      <td>1965</td>\n      <td>23:45</td>\n    </tr>\n  </tbody>\n</table>\n</div>"
     },
     "metadata": {},
     "execution_count": 3
    }
   ],
   "source": [
    "ufo_us_df = ufo_df[['state',\"country\",\"datetime\"]]\n",
    "ufo_us_df.head()\n",
    "\n",
    "#get rid of nans\n",
    "ufo_us_df = ufo_us_df.dropna(how='any')\n",
    "# US only data\n",
    "ufo_us_df = ufo_us_df[ufo_us_df['country']==\"us\"]\n",
    "#new_df = pd.to_datetime(ufo_us_df)\n",
    "#new_df.head()\n",
    "ufo_us_df.head()\n",
    " \n",
    "df_season = ufo_us_df['datetime'].apply(lambda x: pd.Series(x.split('/')))\n",
    "#df_season.head()\n",
    "df_time = df_season[2].apply(lambda x: pd.Series(x.split(' ')))\n",
    "df_time.head()\n",
    "\n"
   ]
  },
  {
   "cell_type": "code",
   "execution_count": 4,
   "metadata": {},
   "outputs": [
    {
     "output_type": "execute_result",
     "data": {
      "text/plain": [
       "    0   1\n",
       "0  20  30\n",
       "3  21  00\n",
       "4  20  00\n",
       "5  19  00\n",
       "7  23  45"
      ],
      "text/html": "<div>\n<style scoped>\n    .dataframe tbody tr th:only-of-type {\n        vertical-align: middle;\n    }\n\n    .dataframe tbody tr th {\n        vertical-align: top;\n    }\n\n    .dataframe thead th {\n        text-align: right;\n    }\n</style>\n<table border=\"1\" class=\"dataframe\">\n  <thead>\n    <tr style=\"text-align: right;\">\n      <th></th>\n      <th>0</th>\n      <th>1</th>\n    </tr>\n  </thead>\n  <tbody>\n    <tr>\n      <th>0</th>\n      <td>20</td>\n      <td>30</td>\n    </tr>\n    <tr>\n      <th>3</th>\n      <td>21</td>\n      <td>00</td>\n    </tr>\n    <tr>\n      <th>4</th>\n      <td>20</td>\n      <td>00</td>\n    </tr>\n    <tr>\n      <th>5</th>\n      <td>19</td>\n      <td>00</td>\n    </tr>\n    <tr>\n      <th>7</th>\n      <td>23</td>\n      <td>45</td>\n    </tr>\n  </tbody>\n</table>\n</div>"
     },
     "metadata": {},
     "execution_count": 4
    }
   ],
   "source": [
    "df_timeofday = df_time[1].apply(lambda x: pd.Series(x.split(':')))\n",
    "df_timeofday.head()"
   ]
  },
  {
   "cell_type": "code",
   "execution_count": 5,
   "metadata": {},
   "outputs": [],
   "source": [
    "df_timeofday[0] = df_timeofday[0].astype(int)"
   ]
  },
  {
   "cell_type": "code",
   "execution_count": 7,
   "metadata": {},
   "outputs": [],
   "source": [
    "bins = [0,6,12,18,24]\n",
    "labels = [\"Dawn\",\"Morning\",\"Afternoon\",\"Night\"]\n",
    "df_timeofday[\"time\"] = pd.cut(df_timeofday[0], bins=bins, labels=labels)\n",
    "df_timeofday = df_timeofday[[0,'time']]\n",
    "ufo_us_df = ufo_us_df.merge(df_timeofday,left_index=True,right_index=True)\n"
   ]
  },
  {
   "cell_type": "code",
   "execution_count": 7,
   "metadata": {},
   "outputs": [
    {
     "output_type": "execute_result",
     "data": {
      "text/plain": [
       "  state country          datetime   time\n",
       "0    tx      us  10/10/1949 20:30  Night\n",
       "3    tx      us  10/10/1956 21:00  Night\n",
       "4    hi      us  10/10/1960 20:00  Night\n",
       "5    tn      us  10/10/1961 19:00  Night\n",
       "7    ct      us  10/10/1965 23:45  Night"
      ],
      "text/html": "<div>\n<style scoped>\n    .dataframe tbody tr th:only-of-type {\n        vertical-align: middle;\n    }\n\n    .dataframe tbody tr th {\n        vertical-align: top;\n    }\n\n    .dataframe thead th {\n        text-align: right;\n    }\n</style>\n<table border=\"1\" class=\"dataframe\">\n  <thead>\n    <tr style=\"text-align: right;\">\n      <th></th>\n      <th>state</th>\n      <th>country</th>\n      <th>datetime</th>\n      <th>time</th>\n    </tr>\n  </thead>\n  <tbody>\n    <tr>\n      <th>0</th>\n      <td>tx</td>\n      <td>us</td>\n      <td>10/10/1949 20:30</td>\n      <td>Night</td>\n    </tr>\n    <tr>\n      <th>3</th>\n      <td>tx</td>\n      <td>us</td>\n      <td>10/10/1956 21:00</td>\n      <td>Night</td>\n    </tr>\n    <tr>\n      <th>4</th>\n      <td>hi</td>\n      <td>us</td>\n      <td>10/10/1960 20:00</td>\n      <td>Night</td>\n    </tr>\n    <tr>\n      <th>5</th>\n      <td>tn</td>\n      <td>us</td>\n      <td>10/10/1961 19:00</td>\n      <td>Night</td>\n    </tr>\n    <tr>\n      <th>7</th>\n      <td>ct</td>\n      <td>us</td>\n      <td>10/10/1965 23:45</td>\n      <td>Night</td>\n    </tr>\n  </tbody>\n</table>\n</div>"
     },
     "metadata": {},
     "execution_count": 7
    }
   ],
   "source": [
    "ufo_us_df.head()"
   ]
  },
  {
   "cell_type": "code",
   "execution_count": 56,
   "metadata": {},
   "outputs": [
    {
     "data": {
      "text/html": [
       "<div>\n",
       "<style scoped>\n",
       "    .dataframe tbody tr th:only-of-type {\n",
       "        vertical-align: middle;\n",
       "    }\n",
       "\n",
       "    .dataframe tbody tr th {\n",
       "        vertical-align: top;\n",
       "    }\n",
       "\n",
       "    .dataframe thead th {\n",
       "        text-align: right;\n",
       "    }\n",
       "</style>\n",
       "<table border=\"1\" class=\"dataframe\">\n",
       "  <thead>\n",
       "    <tr style=\"text-align: right;\">\n",
       "      <th></th>\n",
       "      <th>0</th>\n",
       "      <th>1</th>\n",
       "      <th>time</th>\n",
       "    </tr>\n",
       "  </thead>\n",
       "  <tbody>\n",
       "    <tr>\n",
       "      <th>0</th>\n",
       "      <td>20</td>\n",
       "      <td>30</td>\n",
       "      <td>Night</td>\n",
       "    </tr>\n",
       "    <tr>\n",
       "      <th>3</th>\n",
       "      <td>21</td>\n",
       "      <td>00</td>\n",
       "      <td>Night</td>\n",
       "    </tr>\n",
       "    <tr>\n",
       "      <th>4</th>\n",
       "      <td>20</td>\n",
       "      <td>00</td>\n",
       "      <td>Night</td>\n",
       "    </tr>\n",
       "    <tr>\n",
       "      <th>5</th>\n",
       "      <td>19</td>\n",
       "      <td>00</td>\n",
       "      <td>Night</td>\n",
       "    </tr>\n",
       "    <tr>\n",
       "      <th>7</th>\n",
       "      <td>23</td>\n",
       "      <td>45</td>\n",
       "      <td>Night</td>\n",
       "    </tr>\n",
       "  </tbody>\n",
       "</table>\n",
       "</div>"
      ],
      "text/plain": [
       "    0   1   time\n",
       "0  20  30  Night\n",
       "3  21  00  Night\n",
       "4  20  00  Night\n",
       "5  19  00  Night\n",
       "7  23  45  Night"
      ]
     },
     "execution_count": 56,
     "metadata": {},
     "output_type": "execute_result"
    }
   ],
   "source": [
    "df_timeofday.head()"
   ]
  },
  {
   "cell_type": "code",
   "execution_count": 57,
   "metadata": {},
   "outputs": [],
   "source": [
    "timeofday_1 = df_timeofday.groupby(\"time\").agg({\"time\":\"count\"})\n"
   ]
  },
  {
   "cell_type": "code",
   "execution_count": 59,
   "metadata": {},
   "outputs": [
    {
     "data": {
      "text/plain": [
       "<matplotlib.axes._subplots.AxesSubplot at 0x25037e2aa60>"
      ]
     },
     "execution_count": 59,
     "metadata": {},
     "output_type": "execute_result"
    },
    {
     "data": {
      "image/png": "[encoded data removed]",
      "text/plain": [
       "<Figure size 432x288 with 1 Axes>"
      ]
     },
     "metadata": {
      "needs_background": "light"
     },
     "output_type": "display_data"
    }
   ],
   "source": [
    "timeofday_1[\"time\"].plot(kind=\"bar\")\n"
   ]
  },
  {
   "cell_type": "code",
   "execution_count": 8,
   "metadata": {},
   "outputs": [],
   "source": [
    "df_season[0] = df_season[0].astype(int)"
   ]
  },
  {
   "cell_type": "code",
   "execution_count": 9,
   "metadata": {},
   "outputs": [
    {
     "output_type": "execute_result",
     "data": {
      "text/plain": [
       "  state country          datetime   time season\n",
       "0    tx      us  10/10/1949 20:30  Night   Fall\n",
       "3    tx      us  10/10/1956 21:00  Night   Fall\n",
       "4    hi      us  10/10/1960 20:00  Night   Fall\n",
       "5    tn      us  10/10/1961 19:00  Night   Fall\n",
       "7    ct      us  10/10/1965 23:45  Night   Fall"
      ],
      "text/html": "<div>\n<style scoped>\n    .dataframe tbody tr th:only-of-type {\n        vertical-align: middle;\n    }\n\n    .dataframe tbody tr th {\n        vertical-align: top;\n    }\n\n    .dataframe thead th {\n        text-align: right;\n    }\n</style>\n<table border=\"1\" class=\"dataframe\">\n  <thead>\n    <tr style=\"text-align: right;\">\n      <th></th>\n      <th>state</th>\n      <th>country</th>\n      <th>datetime</th>\n      <th>time</th>\n      <th>season</th>\n    </tr>\n  </thead>\n  <tbody>\n    <tr>\n      <th>0</th>\n      <td>tx</td>\n      <td>us</td>\n      <td>10/10/1949 20:30</td>\n      <td>Night</td>\n      <td>Fall</td>\n    </tr>\n    <tr>\n      <th>3</th>\n      <td>tx</td>\n      <td>us</td>\n      <td>10/10/1956 21:00</td>\n      <td>Night</td>\n      <td>Fall</td>\n    </tr>\n    <tr>\n      <th>4</th>\n      <td>hi</td>\n      <td>us</td>\n      <td>10/10/1960 20:00</td>\n      <td>Night</td>\n      <td>Fall</td>\n    </tr>\n    <tr>\n      <th>5</th>\n      <td>tn</td>\n      <td>us</td>\n      <td>10/10/1961 19:00</td>\n      <td>Night</td>\n      <td>Fall</td>\n    </tr>\n    <tr>\n      <th>7</th>\n      <td>ct</td>\n      <td>us</td>\n      <td>10/10/1965 23:45</td>\n      <td>Night</td>\n      <td>Fall</td>\n    </tr>\n  </tbody>\n</table>\n</div>"
     },
     "metadata": {},
     "execution_count": 9
    }
   ],
   "source": [
    "bins = [0,3,6,9,12]\n",
    "labels = [\"Winter\",\"Spring\",\"Summer\",\"Fall\"]\n",
    "df_season['season'] = pd.cut(df_season[0], bins=bins, labels=labels)\n",
    "df_season = df_season[[0,'season']]\n",
    "ufo_us_df = ufo_us_df.merge(df_season,left_index=True,right_index=True)\n",
    "ufo_us_df.head()\n"
   ]
  },
  {
   "cell_type": "code",
   "execution_count": 43,
   "metadata": {},
   "outputs": [
    {
     "data": {
      "text/html": [
       "<div>\n",
       "<style scoped>\n",
       "    .dataframe tbody tr th:only-of-type {\n",
       "        vertical-align: middle;\n",
       "    }\n",
       "\n",
       "    .dataframe tbody tr th {\n",
       "        vertical-align: top;\n",
       "    }\n",
       "\n",
       "    .dataframe thead th {\n",
       "        text-align: right;\n",
       "    }\n",
       "</style>\n",
       "<table border=\"1\" class=\"dataframe\">\n",
       "  <thead>\n",
       "    <tr style=\"text-align: right;\">\n",
       "      <th></th>\n",
       "      <th>binned</th>\n",
       "    </tr>\n",
       "    <tr>\n",
       "      <th>binned</th>\n",
       "      <th></th>\n",
       "    </tr>\n",
       "  </thead>\n",
       "  <tbody>\n",
       "    <tr>\n",
       "      <th>Winter</th>\n",
       "      <td>12842</td>\n",
       "    </tr>\n",
       "    <tr>\n",
       "      <th>Spring</th>\n",
       "      <td>15123</td>\n",
       "    </tr>\n",
       "    <tr>\n",
       "      <th>Summer</th>\n",
       "      <td>20646</td>\n",
       "    </tr>\n",
       "    <tr>\n",
       "      <th>Fall</th>\n",
       "      <td>16503</td>\n",
       "    </tr>\n",
       "  </tbody>\n",
       "</table>\n",
       "</div>"
      ],
      "text/plain": [
       "        binned\n",
       "binned        \n",
       "Winter   12842\n",
       "Spring   15123\n",
       "Summer   20646\n",
       "Fall     16503"
      ]
     },
     "execution_count": 43,
     "metadata": {},
     "output_type": "execute_result"
    }
   ],
   "source": [
    "#new_df.head()\n",
    "df = df_season.groupby(\"binned\").agg({\"binned\":\"count\"})\n",
    "#max sightings\n",
    "df.head()"
   ]
  },
  {
   "cell_type": "code",
   "execution_count": 44,
   "metadata": {
    "scrolled": true
   },
   "outputs": [
    {
     "data": {
      "text/plain": [
       "<matplotlib.axes._subplots.AxesSubplot at 0x25026444430>"
      ]
     },
     "execution_count": 44,
     "metadata": {},
     "output_type": "execute_result"
    },
    {
     "data": {
      "image/png": "[encoded data removed]",
      "text/plain": [
       "<Figure size 432x288 with 1 Axes>"
      ]
     },
     "metadata": {
      "needs_background": "light"
     },
     "output_type": "display_data"
    }
   ],
   "source": [
    "# Individual columns chosen from the DataFrame\n",
    "# as Series are plotted in the same way:\n",
    "df['binned'].plot(kind=\"bar\")"
   ]
  },
  {
   "cell_type": "code",
   "execution_count": null,
   "metadata": {},
   "outputs": [],
   "source": []
  },
  {
   "cell_type": "code",
   "execution_count": 26,
   "metadata": {},
   "outputs": [
    {
     "data": {
      "text/html": [
       "<div>\n",
       "<style scoped>\n",
       "    .dataframe tbody tr th:only-of-type {\n",
       "        vertical-align: middle;\n",
       "    }\n",
       "\n",
       "    .dataframe tbody tr th {\n",
       "        vertical-align: top;\n",
       "    }\n",
       "\n",
       "    .dataframe thead th {\n",
       "        text-align: right;\n",
       "    }\n",
       "</style>\n",
       "<table border=\"1\" class=\"dataframe\">\n",
       "  <thead>\n",
       "    <tr style=\"text-align: right;\">\n",
       "      <th></th>\n",
       "      <th>0</th>\n",
       "      <th>1</th>\n",
       "    </tr>\n",
       "  </thead>\n",
       "  <tbody>\n",
       "    <tr>\n",
       "      <th>0</th>\n",
       "      <td>10/10/1949</td>\n",
       "      <td>20:30</td>\n",
       "    </tr>\n",
       "    <tr>\n",
       "      <th>3</th>\n",
       "      <td>10/10/1956</td>\n",
       "      <td>21:00</td>\n",
       "    </tr>\n",
       "    <tr>\n",
       "      <th>4</th>\n",
       "      <td>10/10/1960</td>\n",
       "      <td>20:00</td>\n",
       "    </tr>\n",
       "    <tr>\n",
       "      <th>5</th>\n",
       "      <td>10/10/1961</td>\n",
       "      <td>19:00</td>\n",
       "    </tr>\n",
       "    <tr>\n",
       "      <th>7</th>\n",
       "      <td>10/10/1965</td>\n",
       "      <td>23:45</td>\n",
       "    </tr>\n",
       "  </tbody>\n",
       "</table>\n",
       "</div>"
      ],
      "text/plain": [
       "            0      1\n",
       "0  10/10/1949  20:30\n",
       "3  10/10/1956  21:00\n",
       "4  10/10/1960  20:00\n",
       "5  10/10/1961  19:00\n",
       "7  10/10/1965  23:45"
      ]
     },
     "execution_count": 26,
     "metadata": {},
     "output_type": "execute_result"
    }
   ],
   "source": [
    "ufo_us_df = ufo_us_df['datetime'].apply(lambda x: pd.Series(x.split(' ')))\n",
    "ufo_us_df.head()\n"
   ]
  },
  {
   "cell_type": "code",
   "execution_count": null,
   "metadata": {},
   "outputs": [],
   "source": []
  },
  {
   "cell_type": "code",
   "execution_count": 35,
   "metadata": {},
   "outputs": [
    {
     "data": {
      "text/plain": [
       "city          65114\n",
       "state         65114\n",
       "country       65114\n",
       "latitude      65114\n",
       "longitude     65114\n",
       "dtype: int64"
      ]
     },
     "execution_count": 35,
     "metadata": {},
     "output_type": "execute_result"
    }
   ],
   "source": [
    "ufo_us_df.count()"
   ]
  },
  {
   "cell_type": "code",
   "execution_count": 40,
   "metadata": {},
   "outputs": [
    {
     "data": {
      "text/html": [
       "<div>\n",
       "<style scoped>\n",
       "    .dataframe tbody tr th:only-of-type {\n",
       "        vertical-align: middle;\n",
       "    }\n",
       "\n",
       "    .dataframe tbody tr th {\n",
       "        vertical-align: top;\n",
       "    }\n",
       "\n",
       "    .dataframe thead th {\n",
       "        text-align: right;\n",
       "    }\n",
       "</style>\n",
       "<table border=\"1\" class=\"dataframe\">\n",
       "  <thead>\n",
       "    <tr style=\"text-align: right;\">\n",
       "      <th></th>\n",
       "      <th>SUMLEV</th>\n",
       "      <th>STATE</th>\n",
       "      <th>COUNTY</th>\n",
       "      <th>PLACE</th>\n",
       "      <th>COUSUB</th>\n",
       "      <th>CONCIT</th>\n",
       "      <th>PRIMGEO_FLAG</th>\n",
       "      <th>FUNCSTAT</th>\n",
       "      <th>NAME</th>\n",
       "      <th>STNAME</th>\n",
       "      <th>...</th>\n",
       "      <th>POPESTIMATE2010</th>\n",
       "      <th>POPESTIMATE2011</th>\n",
       "      <th>POPESTIMATE2012</th>\n",
       "      <th>POPESTIMATE2013</th>\n",
       "      <th>POPESTIMATE2014</th>\n",
       "      <th>POPESTIMATE2015</th>\n",
       "      <th>POPESTIMATE2016</th>\n",
       "      <th>POPESTIMATE2017</th>\n",
       "      <th>POPESTIMATE2018</th>\n",
       "      <th>POPESTIMATE2019</th>\n",
       "    </tr>\n",
       "  </thead>\n",
       "  <tbody>\n",
       "    <tr>\n",
       "      <th>0</th>\n",
       "      <td>40</td>\n",
       "      <td>1</td>\n",
       "      <td>0</td>\n",
       "      <td>0</td>\n",
       "      <td>0</td>\n",
       "      <td>0</td>\n",
       "      <td>0</td>\n",
       "      <td>A</td>\n",
       "      <td>Alabama</td>\n",
       "      <td>Alabama</td>\n",
       "      <td>...</td>\n",
       "      <td>4785437</td>\n",
       "      <td>4799069</td>\n",
       "      <td>4815588</td>\n",
       "      <td>4830081</td>\n",
       "      <td>4841799</td>\n",
       "      <td>4852347</td>\n",
       "      <td>4863525</td>\n",
       "      <td>4874486</td>\n",
       "      <td>4887681</td>\n",
       "      <td>4903185</td>\n",
       "    </tr>\n",
       "    <tr>\n",
       "      <th>1</th>\n",
       "      <td>162</td>\n",
       "      <td>1</td>\n",
       "      <td>0</td>\n",
       "      <td>124</td>\n",
       "      <td>0</td>\n",
       "      <td>0</td>\n",
       "      <td>0</td>\n",
       "      <td>A</td>\n",
       "      <td>Abbeville city</td>\n",
       "      <td>Alabama</td>\n",
       "      <td>...</td>\n",
       "      <td>2699</td>\n",
       "      <td>2694</td>\n",
       "      <td>2643</td>\n",
       "      <td>2628</td>\n",
       "      <td>2608</td>\n",
       "      <td>2600</td>\n",
       "      <td>2584</td>\n",
       "      <td>2575</td>\n",
       "      <td>2571</td>\n",
       "      <td>2560</td>\n",
       "    </tr>\n",
       "    <tr>\n",
       "      <th>2</th>\n",
       "      <td>162</td>\n",
       "      <td>1</td>\n",
       "      <td>0</td>\n",
       "      <td>460</td>\n",
       "      <td>0</td>\n",
       "      <td>0</td>\n",
       "      <td>0</td>\n",
       "      <td>A</td>\n",
       "      <td>Adamsville city</td>\n",
       "      <td>Alabama</td>\n",
       "      <td>...</td>\n",
       "      <td>4500</td>\n",
       "      <td>4493</td>\n",
       "      <td>4471</td>\n",
       "      <td>4449</td>\n",
       "      <td>4420</td>\n",
       "      <td>4390</td>\n",
       "      <td>4356</td>\n",
       "      <td>4327</td>\n",
       "      <td>4308</td>\n",
       "      <td>4281</td>\n",
       "    </tr>\n",
       "    <tr>\n",
       "      <th>3</th>\n",
       "      <td>162</td>\n",
       "      <td>1</td>\n",
       "      <td>0</td>\n",
       "      <td>484</td>\n",
       "      <td>0</td>\n",
       "      <td>0</td>\n",
       "      <td>0</td>\n",
       "      <td>A</td>\n",
       "      <td>Addison town</td>\n",
       "      <td>Alabama</td>\n",
       "      <td>...</td>\n",
       "      <td>751</td>\n",
       "      <td>750</td>\n",
       "      <td>743</td>\n",
       "      <td>742</td>\n",
       "      <td>739</td>\n",
       "      <td>734</td>\n",
       "      <td>731</td>\n",
       "      <td>726</td>\n",
       "      <td>723</td>\n",
       "      <td>718</td>\n",
       "    </tr>\n",
       "    <tr>\n",
       "      <th>4</th>\n",
       "      <td>162</td>\n",
       "      <td>1</td>\n",
       "      <td>0</td>\n",
       "      <td>676</td>\n",
       "      <td>0</td>\n",
       "      <td>0</td>\n",
       "      <td>0</td>\n",
       "      <td>A</td>\n",
       "      <td>Akron town</td>\n",
       "      <td>Alabama</td>\n",
       "      <td>...</td>\n",
       "      <td>355</td>\n",
       "      <td>347</td>\n",
       "      <td>347</td>\n",
       "      <td>343</td>\n",
       "      <td>338</td>\n",
       "      <td>339</td>\n",
       "      <td>333</td>\n",
       "      <td>332</td>\n",
       "      <td>331</td>\n",
       "      <td>328</td>\n",
       "    </tr>\n",
       "  </tbody>\n",
       "</table>\n",
       "<p>5 rows × 22 columns</p>\n",
       "</div>"
      ],
      "text/plain": [
       "   SUMLEV  STATE  COUNTY  PLACE  COUSUB  CONCIT  PRIMGEO_FLAG FUNCSTAT  \\\n",
       "0      40      1       0      0       0       0             0        A   \n",
       "1     162      1       0    124       0       0             0        A   \n",
       "2     162      1       0    460       0       0             0        A   \n",
       "3     162      1       0    484       0       0             0        A   \n",
       "4     162      1       0    676       0       0             0        A   \n",
       "\n",
       "              NAME   STNAME  ... POPESTIMATE2010  POPESTIMATE2011  \\\n",
       "0          Alabama  Alabama  ...         4785437          4799069   \n",
       "1   Abbeville city  Alabama  ...            2699             2694   \n",
       "2  Adamsville city  Alabama  ...            4500             4493   \n",
       "3     Addison town  Alabama  ...             751              750   \n",
       "4       Akron town  Alabama  ...             355              347   \n",
       "\n",
       "   POPESTIMATE2012  POPESTIMATE2013  POPESTIMATE2014  POPESTIMATE2015  \\\n",
       "0          4815588          4830081          4841799          4852347   \n",
       "1             2643             2628             2608             2600   \n",
       "2             4471             4449             4420             4390   \n",
       "3              743              742              739              734   \n",
       "4              347              343              338              339   \n",
       "\n",
       "   POPESTIMATE2016  POPESTIMATE2017  POPESTIMATE2018  POPESTIMATE2019  \n",
       "0          4863525          4874486          4887681          4903185  \n",
       "1             2584             2575             2571             2560  \n",
       "2             4356             4327             4308             4281  \n",
       "3              731              726              723              718  \n",
       "4              333              332              331              328  \n",
       "\n",
       "[5 rows x 22 columns]"
      ]
     },
     "execution_count": 40,
     "metadata": {},
     "output_type": "execute_result"
    }
   ],
   "source": [
    "# load the census population by city data\n",
    "census = \"Resources/sub-est2019_all.csv\"\n",
    "census_df = pd.read_csv(census, encoding=\"ISO-8859-1\")\n",
    "census_df.head()"
   ]
  },
  {
   "cell_type": "code",
   "execution_count": 44,
   "metadata": {},
   "outputs": [
    {
     "data": {
      "text/html": [
       "<div>\n",
       "<style scoped>\n",
       "    .dataframe tbody tr th:only-of-type {\n",
       "        vertical-align: middle;\n",
       "    }\n",
       "\n",
       "    .dataframe tbody tr th {\n",
       "        vertical-align: top;\n",
       "    }\n",
       "\n",
       "    .dataframe thead th {\n",
       "        text-align: right;\n",
       "    }\n",
       "</style>\n",
       "<table border=\"1\" class=\"dataframe\">\n",
       "  <thead>\n",
       "    <tr style=\"text-align: right;\">\n",
       "      <th></th>\n",
       "      <th>city</th>\n",
       "      <th>state</th>\n",
       "      <th>population</th>\n",
       "    </tr>\n",
       "  </thead>\n",
       "  <tbody>\n",
       "    <tr>\n",
       "      <th>0</th>\n",
       "      <td>Alabama</td>\n",
       "      <td>Alabama</td>\n",
       "      <td>4903185</td>\n",
       "    </tr>\n",
       "    <tr>\n",
       "      <th>1</th>\n",
       "      <td>Abbeville city</td>\n",
       "      <td>Alabama</td>\n",
       "      <td>2560</td>\n",
       "    </tr>\n",
       "    <tr>\n",
       "      <th>2</th>\n",
       "      <td>Adamsville city</td>\n",
       "      <td>Alabama</td>\n",
       "      <td>4281</td>\n",
       "    </tr>\n",
       "    <tr>\n",
       "      <th>3</th>\n",
       "      <td>Addison town</td>\n",
       "      <td>Alabama</td>\n",
       "      <td>718</td>\n",
       "    </tr>\n",
       "    <tr>\n",
       "      <th>4</th>\n",
       "      <td>Akron town</td>\n",
       "      <td>Alabama</td>\n",
       "      <td>328</td>\n",
       "    </tr>\n",
       "  </tbody>\n",
       "</table>\n",
       "</div>"
      ],
      "text/plain": [
       "              city    state  population\n",
       "0          Alabama  Alabama     4903185\n",
       "1   Abbeville city  Alabama        2560\n",
       "2  Adamsville city  Alabama        4281\n",
       "3     Addison town  Alabama         718\n",
       "4       Akron town  Alabama         328"
      ]
     },
     "execution_count": 44,
     "metadata": {},
     "output_type": "execute_result"
    }
   ],
   "source": [
    "# narrow down to the city, state and population from 2019\n",
    "pop_raw_df = census_df[[\"NAME\",\"STNAME\",\"POPESTIMATE2019\"]]\n",
    "\n",
    "# rename the columns\n",
    "pop_df = pop_raw_df.rename(columns = {'NAME':'city', 'STNAME':'state','POPESTIMATE2019':'population'})\n",
    "pop_df.head()\n"
   ]
  },
  {
   "cell_type": "code",
   "execution_count": 61,
   "metadata": {},
   "outputs": [],
   "source": [
    "# This removes the overall state populations and only includes the city, town, and village\n",
    "pop1_df = pop_df.copy()\n",
    "pop2_df = pop1_df[pop1_df['city'].str.contains('city|town|village', case=False)]\n",
    "\n",
    "# need to translate state abbrev and state name to merge the data\n",
    "\n"
   ]
  },
  {
   "cell_type": "code",
   "execution_count": 60,
   "metadata": {},
   "outputs": [
    {
     "data": {
      "text/plain": [
       "city          5418\n",
       "state         5418\n",
       "population    5418\n",
       "dtype: int64"
      ]
     },
     "execution_count": 60,
     "metadata": {},
     "output_type": "execute_result"
    }
   ],
   "source": [
    "#play with Ohio data\n",
    "ohio_df = pop2_df[pop2_df['state']==\"Ohio\"]\n",
    "\n",
    "ufo_oh_df = ufo_us_df[ufo_us_df['state']==\"oh\"]\n",
    "#ufo_oh_df.head()\n",
    "ohio_df.count()\n",
    "\n"
   ]
  },
  {
   "cell_type": "code",
   "execution_count": 62,
   "metadata": {},
   "outputs": [
    {
     "data": {
      "text/html": [
       "<div>\n",
       "<style scoped>\n",
       "    .dataframe tbody tr th:only-of-type {\n",
       "        vertical-align: middle;\n",
       "    }\n",
       "\n",
       "    .dataframe tbody tr th {\n",
       "        vertical-align: top;\n",
       "    }\n",
       "\n",
       "    .dataframe thead th {\n",
       "        text-align: right;\n",
       "    }\n",
       "</style>\n",
       "<table border=\"1\" class=\"dataframe\">\n",
       "  <thead>\n",
       "    <tr style=\"text-align: right;\">\n",
       "      <th></th>\n",
       "      <th>state</th>\n",
       "      <th>abbrev</th>\n",
       "    </tr>\n",
       "  </thead>\n",
       "  <tbody>\n",
       "    <tr>\n",
       "      <th>0</th>\n",
       "      <td>Alabama</td>\n",
       "      <td>al</td>\n",
       "    </tr>\n",
       "    <tr>\n",
       "      <th>1</th>\n",
       "      <td>Alaska</td>\n",
       "      <td>ak</td>\n",
       "    </tr>\n",
       "    <tr>\n",
       "      <th>2</th>\n",
       "      <td>Arizona</td>\n",
       "      <td>az</td>\n",
       "    </tr>\n",
       "    <tr>\n",
       "      <th>3</th>\n",
       "      <td>Arkansas</td>\n",
       "      <td>ar</td>\n",
       "    </tr>\n",
       "    <tr>\n",
       "      <th>4</th>\n",
       "      <td>California</td>\n",
       "      <td>ca</td>\n",
       "    </tr>\n",
       "  </tbody>\n",
       "</table>\n",
       "</div>"
      ],
      "text/plain": [
       "        state abbrev\n",
       "0     Alabama     al\n",
       "1      Alaska     ak\n",
       "2     Arizona     az\n",
       "3    Arkansas     ar\n",
       "4  California     ca"
      ]
     },
     "execution_count": 62,
     "metadata": {},
     "output_type": "execute_result"
    }
   ],
   "source": [
    "us_states = \"Resources/state_abbrev.csv\"\n",
    "states_df = pd.read_csv(us_states, encoding=\"ISO-8859-1\")\n",
    "states_df.head()"
   ]
  },
  {
   "cell_type": "code",
   "execution_count": null,
   "metadata": {},
   "outputs": [],
   "source": []
  }
 ],
 "metadata": {
  "kernelspec": {
   "display_name": "Python 3",
   "language": "python",
   "name": "python3"
  },
  "language_info": {
   "codemirror_mode": {
    "name": "ipython",
    "version": 3
   },
   "file_extension": ".py",
   "mimetype": "text/x-python",
   "name": "python",
   "nbconvert_exporter": "python",
   "pygments_lexer": "ipython3",
   "version": "3.8.3-final"
  }
 },
 "nbformat": 4,
 "nbformat_minor": 4
}