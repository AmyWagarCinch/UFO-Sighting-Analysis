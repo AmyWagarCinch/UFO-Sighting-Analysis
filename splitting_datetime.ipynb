{
 "metadata": {
  "language_info": {
   "codemirror_mode": {
    "name": "ipython",
    "version": 3
   },
   "file_extension": ".py",
   "mimetype": "text/x-python",
   "name": "python",
   "nbconvert_exporter": "python",
   "pygments_lexer": "ipython3",
   "version": "3.8.3-final"
  },
  "orig_nbformat": 2,
  "kernelspec": {
   "name": "python3",
   "display_name": "Python 3",
   "language": "python"
  }
 },
 "nbformat": 4,
 "nbformat_minor": 2,
 "cells": [
  {
   "source": [
    "uses marisabels bins to group data into times of day and seasons. drops anything that doesn't work"
   ],
   "cell_type": "markdown",
   "metadata": {}
  },
  {
   "cell_type": "code",
   "execution_count": 5,
   "metadata": {},
   "outputs": [
    {
     "output_type": "execute_result",
     "data": {
      "text/plain": [
       "                                                text          grade  \\\n",
       "0  Translucent cylindrical silent aircraft Seen n...  College Level   \n",
       "1  Tonight around 11 pm i walked outside to see i...      5th Grade   \n",
       "2  4 triangular sightings with different light pa...      7th Grade   \n",
       "3  Bright orange lights seen by a family of 4 in ...      7th Grade   \n",
       "6  Quick white flashing streak that turned greeni...      6th Grade   \n",
       "\n",
       "       date_time    duration            city state shape_reported     shape  \\\n",
       "0  10/6/20 14:40  10 seconds       Alexander    NC       Cylinder  Cylinder   \n",
       "1  3/20/19 23:00    1 minute          Wright    AR           Disk      Disk   \n",
       "2  4/16/19 21:30  30 minutes      Titusville    FL       Triangle  Triangle   \n",
       "3  4/16/19 21:30       08:00       Knoxville    IL          Light     Light   \n",
       "6  4/22/19 01:11  10 seconds  St. Petersburg    FL          Flash     Flash   \n",
       "\n",
       "  shape_category  \n",
       "0       Cylinder  \n",
       "1           Disk  \n",
       "2       Triangle  \n",
       "3          Light  \n",
       "6          Flash  "
      ],
      "text/html": "<div>\n<style scoped>\n    .dataframe tbody tr th:only-of-type {\n        vertical-align: middle;\n    }\n\n    .dataframe tbody tr th {\n        vertical-align: top;\n    }\n\n    .dataframe thead th {\n        text-align: right;\n    }\n</style>\n<table border=\"1\" class=\"dataframe\">\n  <thead>\n    <tr style=\"text-align: right;\">\n      <th></th>\n      <th>text</th>\n      <th>grade</th>\n      <th>date_time</th>\n      <th>duration</th>\n      <th>city</th>\n      <th>state</th>\n      <th>shape_reported</th>\n      <th>shape</th>\n      <th>shape_category</th>\n    </tr>\n  </thead>\n  <tbody>\n    <tr>\n      <th>0</th>\n      <td>Translucent cylindrical silent aircraft Seen n...</td>\n      <td>College Level</td>\n      <td>10/6/20 14:40</td>\n      <td>10 seconds</td>\n      <td>Alexander</td>\n      <td>NC</td>\n      <td>Cylinder</td>\n      <td>Cylinder</td>\n      <td>Cylinder</td>\n    </tr>\n    <tr>\n      <th>1</th>\n      <td>Tonight around 11 pm i walked outside to see i...</td>\n      <td>5th Grade</td>\n      <td>3/20/19 23:00</td>\n      <td>1 minute</td>\n      <td>Wright</td>\n      <td>AR</td>\n      <td>Disk</td>\n      <td>Disk</td>\n      <td>Disk</td>\n    </tr>\n    <tr>\n      <th>2</th>\n      <td>4 triangular sightings with different light pa...</td>\n      <td>7th Grade</td>\n      <td>4/16/19 21:30</td>\n      <td>30 minutes</td>\n      <td>Titusville</td>\n      <td>FL</td>\n      <td>Triangle</td>\n      <td>Triangle</td>\n      <td>Triangle</td>\n    </tr>\n    <tr>\n      <th>3</th>\n      <td>Bright orange lights seen by a family of 4 in ...</td>\n      <td>7th Grade</td>\n      <td>4/16/19 21:30</td>\n      <td>08:00</td>\n      <td>Knoxville</td>\n      <td>IL</td>\n      <td>Light</td>\n      <td>Light</td>\n      <td>Light</td>\n    </tr>\n    <tr>\n      <th>6</th>\n      <td>Quick white flashing streak that turned greeni...</td>\n      <td>6th Grade</td>\n      <td>4/22/19 01:11</td>\n      <td>10 seconds</td>\n      <td>St. Petersburg</td>\n      <td>FL</td>\n      <td>Flash</td>\n      <td>Flash</td>\n      <td>Flash</td>\n    </tr>\n  </tbody>\n</table>\n</div>"
     },
     "metadata": {},
     "execution_count": 5
    }
   ],
   "source": [
    "import pandas as pd\n",
    "ufo_doc= \"Resources/dont_touch_me.csv\"\n",
    "\n",
    "ufo_df = pd.read_csv(ufo_doc, encoding=\"ISO-8859-1\")\n",
    "ufo_df = ufo_df.dropna()\n",
    "ufo_df.head()"
   ]
  },
  {
   "cell_type": "code",
   "execution_count": 6,
   "metadata": {},
   "outputs": [
    {
     "output_type": "execute_result",
     "data": {
      "text/plain": [
       "                                                text          grade  \\\n",
       "0  Translucent cylindrical silent aircraft Seen n...  College Level   \n",
       "1  Tonight around 11 pm i walked outside to see i...      5th Grade   \n",
       "2  4 triangular sightings with different light pa...      7th Grade   \n",
       "3  Bright orange lights seen by a family of 4 in ...      7th Grade   \n",
       "6  Quick white flashing streak that turned greeni...      6th Grade   \n",
       "\n",
       "       date_time    duration            city state shape_reported     shape  \\\n",
       "0  10/6/20 14:40  10 seconds       Alexander    NC       Cylinder  Cylinder   \n",
       "1  3/20/19 23:00    1 minute          Wright    AR           Disk      Disk   \n",
       "2  4/16/19 21:30  30 minutes      Titusville    FL       Triangle  Triangle   \n",
       "3  4/16/19 21:30       08:00       Knoxville    IL          Light     Light   \n",
       "6  4/22/19 01:11  10 seconds  St. Petersburg    FL          Flash     Flash   \n",
       "\n",
       "  shape_category  hour  \n",
       "0       Cylinder  14.0  \n",
       "1           Disk  23.0  \n",
       "2       Triangle  21.0  \n",
       "3          Light  21.0  \n",
       "6          Flash   1.0  "
      ],
      "text/html": "<div>\n<style scoped>\n    .dataframe tbody tr th:only-of-type {\n        vertical-align: middle;\n    }\n\n    .dataframe tbody tr th {\n        vertical-align: top;\n    }\n\n    .dataframe thead th {\n        text-align: right;\n    }\n</style>\n<table border=\"1\" class=\"dataframe\">\n  <thead>\n    <tr style=\"text-align: right;\">\n      <th></th>\n      <th>text</th>\n      <th>grade</th>\n      <th>date_time</th>\n      <th>duration</th>\n      <th>city</th>\n      <th>state</th>\n      <th>shape_reported</th>\n      <th>shape</th>\n      <th>shape_category</th>\n      <th>hour</th>\n    </tr>\n  </thead>\n  <tbody>\n    <tr>\n      <th>0</th>\n      <td>Translucent cylindrical silent aircraft Seen n...</td>\n      <td>College Level</td>\n      <td>10/6/20 14:40</td>\n      <td>10 seconds</td>\n      <td>Alexander</td>\n      <td>NC</td>\n      <td>Cylinder</td>\n      <td>Cylinder</td>\n      <td>Cylinder</td>\n      <td>14.0</td>\n    </tr>\n    <tr>\n      <th>1</th>\n      <td>Tonight around 11 pm i walked outside to see i...</td>\n      <td>5th Grade</td>\n      <td>3/20/19 23:00</td>\n      <td>1 minute</td>\n      <td>Wright</td>\n      <td>AR</td>\n      <td>Disk</td>\n      <td>Disk</td>\n      <td>Disk</td>\n      <td>23.0</td>\n    </tr>\n    <tr>\n      <th>2</th>\n      <td>4 triangular sightings with different light pa...</td>\n      <td>7th Grade</td>\n      <td>4/16/19 21:30</td>\n      <td>30 minutes</td>\n      <td>Titusville</td>\n      <td>FL</td>\n      <td>Triangle</td>\n      <td>Triangle</td>\n      <td>Triangle</td>\n      <td>21.0</td>\n    </tr>\n    <tr>\n      <th>3</th>\n      <td>Bright orange lights seen by a family of 4 in ...</td>\n      <td>7th Grade</td>\n      <td>4/16/19 21:30</td>\n      <td>08:00</td>\n      <td>Knoxville</td>\n      <td>IL</td>\n      <td>Light</td>\n      <td>Light</td>\n      <td>Light</td>\n      <td>21.0</td>\n    </tr>\n    <tr>\n      <th>6</th>\n      <td>Quick white flashing streak that turned greeni...</td>\n      <td>6th Grade</td>\n      <td>4/22/19 01:11</td>\n      <td>10 seconds</td>\n      <td>St. Petersburg</td>\n      <td>FL</td>\n      <td>Flash</td>\n      <td>Flash</td>\n      <td>Flash</td>\n      <td>1.0</td>\n    </tr>\n  </tbody>\n</table>\n</div>"
     },
     "metadata": {},
     "execution_count": 6
    }
   ],
   "source": [
    "ufo_df['hour'] = 0.0\n",
    "for index,row in ufo_df.iterrows():\n",
    "    try:\n",
    "        time = str(ufo_df.loc[index,'date_time']).split()[1]\n",
    "        hour = time.split(':')[0]\n",
    "        ufo_df.loc[index,'hour'] = float(hour)\n",
    "    except IndexError:\n",
    "        ufo_df.drop(index)\n",
    "ufo_df.head()"
   ]
  },
  {
   "cell_type": "code",
   "execution_count": 7,
   "metadata": {},
   "outputs": [
    {
     "output_type": "execute_result",
     "data": {
      "text/plain": [
       "                                                text          grade  \\\n",
       "0  Translucent cylindrical silent aircraft Seen n...  College Level   \n",
       "1  Tonight around 11 pm i walked outside to see i...      5th Grade   \n",
       "2  4 triangular sightings with different light pa...      7th Grade   \n",
       "3  Bright orange lights seen by a family of 4 in ...      7th Grade   \n",
       "6  Quick white flashing streak that turned greeni...      6th Grade   \n",
       "\n",
       "       date_time    duration            city state shape_reported     shape  \\\n",
       "0  10/6/20 14:40  10 seconds       Alexander    NC       Cylinder  Cylinder   \n",
       "1  3/20/19 23:00    1 minute          Wright    AR           Disk      Disk   \n",
       "2  4/16/19 21:30  30 minutes      Titusville    FL       Triangle  Triangle   \n",
       "3  4/16/19 21:30       08:00       Knoxville    IL          Light     Light   \n",
       "6  4/22/19 01:11  10 seconds  St. Petersburg    FL          Flash     Flash   \n",
       "\n",
       "  shape_category  hour time_of_day  \n",
       "0       Cylinder  14.0   Afternoon  \n",
       "1           Disk  23.0       Night  \n",
       "2       Triangle  21.0       Night  \n",
       "3          Light  21.0       Night  \n",
       "6          Flash   1.0        Dawn  "
      ],
      "text/html": "<div>\n<style scoped>\n    .dataframe tbody tr th:only-of-type {\n        vertical-align: middle;\n    }\n\n    .dataframe tbody tr th {\n        vertical-align: top;\n    }\n\n    .dataframe thead th {\n        text-align: right;\n    }\n</style>\n<table border=\"1\" class=\"dataframe\">\n  <thead>\n    <tr style=\"text-align: right;\">\n      <th></th>\n      <th>text</th>\n      <th>grade</th>\n      <th>date_time</th>\n      <th>duration</th>\n      <th>city</th>\n      <th>state</th>\n      <th>shape_reported</th>\n      <th>shape</th>\n      <th>shape_category</th>\n      <th>hour</th>\n      <th>time_of_day</th>\n    </tr>\n  </thead>\n  <tbody>\n    <tr>\n      <th>0</th>\n      <td>Translucent cylindrical silent aircraft Seen n...</td>\n      <td>College Level</td>\n      <td>10/6/20 14:40</td>\n      <td>10 seconds</td>\n      <td>Alexander</td>\n      <td>NC</td>\n      <td>Cylinder</td>\n      <td>Cylinder</td>\n      <td>Cylinder</td>\n      <td>14.0</td>\n      <td>Afternoon</td>\n    </tr>\n    <tr>\n      <th>1</th>\n      <td>Tonight around 11 pm i walked outside to see i...</td>\n      <td>5th Grade</td>\n      <td>3/20/19 23:00</td>\n      <td>1 minute</td>\n      <td>Wright</td>\n      <td>AR</td>\n      <td>Disk</td>\n      <td>Disk</td>\n      <td>Disk</td>\n      <td>23.0</td>\n      <td>Night</td>\n    </tr>\n    <tr>\n      <th>2</th>\n      <td>4 triangular sightings with different light pa...</td>\n      <td>7th Grade</td>\n      <td>4/16/19 21:30</td>\n      <td>30 minutes</td>\n      <td>Titusville</td>\n      <td>FL</td>\n      <td>Triangle</td>\n      <td>Triangle</td>\n      <td>Triangle</td>\n      <td>21.0</td>\n      <td>Night</td>\n    </tr>\n    <tr>\n      <th>3</th>\n      <td>Bright orange lights seen by a family of 4 in ...</td>\n      <td>7th Grade</td>\n      <td>4/16/19 21:30</td>\n      <td>08:00</td>\n      <td>Knoxville</td>\n      <td>IL</td>\n      <td>Light</td>\n      <td>Light</td>\n      <td>Light</td>\n      <td>21.0</td>\n      <td>Night</td>\n    </tr>\n    <tr>\n      <th>6</th>\n      <td>Quick white flashing streak that turned greeni...</td>\n      <td>6th Grade</td>\n      <td>4/22/19 01:11</td>\n      <td>10 seconds</td>\n      <td>St. Petersburg</td>\n      <td>FL</td>\n      <td>Flash</td>\n      <td>Flash</td>\n      <td>Flash</td>\n      <td>1.0</td>\n      <td>Dawn</td>\n    </tr>\n  </tbody>\n</table>\n</div>"
     },
     "metadata": {},
     "execution_count": 7
    }
   ],
   "source": [
    "ufo_df['time_of_day'] = ''\n",
    "bins = [0,6,12,18,24]\n",
    "labels = [\"Dawn\",\"Morning\",\"Afternoon\",\"Night\"]\n",
    "\n",
    "ufo_df[\"time_of_day\"] = pd.cut(ufo_df['hour'], bins=bins, labels=labels)\n",
    "ufo_df.head()"
   ]
  },
  {
   "cell_type": "code",
   "execution_count": 8,
   "metadata": {},
   "outputs": [
    {
     "output_type": "execute_result",
     "data": {
      "text/plain": [
       "                                                text          grade  \\\n",
       "0  Translucent cylindrical silent aircraft Seen n...  College Level   \n",
       "1  Tonight around 11 pm i walked outside to see i...      5th Grade   \n",
       "2  4 triangular sightings with different light pa...      7th Grade   \n",
       "3  Bright orange lights seen by a family of 4 in ...      7th Grade   \n",
       "6  Quick white flashing streak that turned greeni...      6th Grade   \n",
       "\n",
       "       date_time    duration            city state shape_reported     shape  \\\n",
       "0  10/6/20 14:40  10 seconds       Alexander    NC       Cylinder  Cylinder   \n",
       "1  3/20/19 23:00    1 minute          Wright    AR           Disk      Disk   \n",
       "2  4/16/19 21:30  30 minutes      Titusville    FL       Triangle  Triangle   \n",
       "3  4/16/19 21:30       08:00       Knoxville    IL          Light     Light   \n",
       "6  4/22/19 01:11  10 seconds  St. Petersburg    FL          Flash     Flash   \n",
       "\n",
       "  shape_category  hour time_of_day  month  \n",
       "0       Cylinder  14.0   Afternoon   10.0  \n",
       "1           Disk  23.0       Night    3.0  \n",
       "2       Triangle  21.0       Night    4.0  \n",
       "3          Light  21.0       Night    4.0  \n",
       "6          Flash   1.0        Dawn    4.0  "
      ],
      "text/html": "<div>\n<style scoped>\n    .dataframe tbody tr th:only-of-type {\n        vertical-align: middle;\n    }\n\n    .dataframe tbody tr th {\n        vertical-align: top;\n    }\n\n    .dataframe thead th {\n        text-align: right;\n    }\n</style>\n<table border=\"1\" class=\"dataframe\">\n  <thead>\n    <tr style=\"text-align: right;\">\n      <th></th>\n      <th>text</th>\n      <th>grade</th>\n      <th>date_time</th>\n      <th>duration</th>\n      <th>city</th>\n      <th>state</th>\n      <th>shape_reported</th>\n      <th>shape</th>\n      <th>shape_category</th>\n      <th>hour</th>\n      <th>time_of_day</th>\n      <th>month</th>\n    </tr>\n  </thead>\n  <tbody>\n    <tr>\n      <th>0</th>\n      <td>Translucent cylindrical silent aircraft Seen n...</td>\n      <td>College Level</td>\n      <td>10/6/20 14:40</td>\n      <td>10 seconds</td>\n      <td>Alexander</td>\n      <td>NC</td>\n      <td>Cylinder</td>\n      <td>Cylinder</td>\n      <td>Cylinder</td>\n      <td>14.0</td>\n      <td>Afternoon</td>\n      <td>10.0</td>\n    </tr>\n    <tr>\n      <th>1</th>\n      <td>Tonight around 11 pm i walked outside to see i...</td>\n      <td>5th Grade</td>\n      <td>3/20/19 23:00</td>\n      <td>1 minute</td>\n      <td>Wright</td>\n      <td>AR</td>\n      <td>Disk</td>\n      <td>Disk</td>\n      <td>Disk</td>\n      <td>23.0</td>\n      <td>Night</td>\n      <td>3.0</td>\n    </tr>\n    <tr>\n      <th>2</th>\n      <td>4 triangular sightings with different light pa...</td>\n      <td>7th Grade</td>\n      <td>4/16/19 21:30</td>\n      <td>30 minutes</td>\n      <td>Titusville</td>\n      <td>FL</td>\n      <td>Triangle</td>\n      <td>Triangle</td>\n      <td>Triangle</td>\n      <td>21.0</td>\n      <td>Night</td>\n      <td>4.0</td>\n    </tr>\n    <tr>\n      <th>3</th>\n      <td>Bright orange lights seen by a family of 4 in ...</td>\n      <td>7th Grade</td>\n      <td>4/16/19 21:30</td>\n      <td>08:00</td>\n      <td>Knoxville</td>\n      <td>IL</td>\n      <td>Light</td>\n      <td>Light</td>\n      <td>Light</td>\n      <td>21.0</td>\n      <td>Night</td>\n      <td>4.0</td>\n    </tr>\n    <tr>\n      <th>6</th>\n      <td>Quick white flashing streak that turned greeni...</td>\n      <td>6th Grade</td>\n      <td>4/22/19 01:11</td>\n      <td>10 seconds</td>\n      <td>St. Petersburg</td>\n      <td>FL</td>\n      <td>Flash</td>\n      <td>Flash</td>\n      <td>Flash</td>\n      <td>1.0</td>\n      <td>Dawn</td>\n      <td>4.0</td>\n    </tr>\n  </tbody>\n</table>\n</div>"
     },
     "metadata": {},
     "execution_count": 8
    }
   ],
   "source": [
    "ufo_df['month'] = 0.0\n",
    "for index,row in ufo_df.iterrows():\n",
    "    try:\n",
    "        date = str(ufo_df.loc[index,'date_time']).split()[0]\n",
    "        month = date.split('/')[0]\n",
    "        ufo_df.loc[index,'month'] = float(month)\n",
    "    except IndexError:\n",
    "        ufo_df.drop(index)\n",
    "    except ValueError:\n",
    "        ufo_df.drop(index)\n",
    "ufo_df.head()"
   ]
  },
  {
   "cell_type": "code",
   "execution_count": 9,
   "metadata": {},
   "outputs": [
    {
     "output_type": "execute_result",
     "data": {
      "text/plain": [
       "                                                text          grade  \\\n",
       "0  Translucent cylindrical silent aircraft Seen n...  College Level   \n",
       "1  Tonight around 11 pm i walked outside to see i...      5th Grade   \n",
       "2  4 triangular sightings with different light pa...      7th Grade   \n",
       "3  Bright orange lights seen by a family of 4 in ...      7th Grade   \n",
       "6  Quick white flashing streak that turned greeni...      6th Grade   \n",
       "\n",
       "       date_time    duration            city state shape_reported     shape  \\\n",
       "0  10/6/20 14:40  10 seconds       Alexander    NC       Cylinder  Cylinder   \n",
       "1  3/20/19 23:00    1 minute          Wright    AR           Disk      Disk   \n",
       "2  4/16/19 21:30  30 minutes      Titusville    FL       Triangle  Triangle   \n",
       "3  4/16/19 21:30       08:00       Knoxville    IL          Light     Light   \n",
       "6  4/22/19 01:11  10 seconds  St. Petersburg    FL          Flash     Flash   \n",
       "\n",
       "  shape_category  hour time_of_day  month  season  \n",
       "0       Cylinder  14.0   Afternoon   10.0    Fall  \n",
       "1           Disk  23.0       Night    3.0  Winter  \n",
       "2       Triangle  21.0       Night    4.0  Spring  \n",
       "3          Light  21.0       Night    4.0  Spring  \n",
       "6          Flash   1.0        Dawn    4.0  Spring  "
      ],
      "text/html": "<div>\n<style scoped>\n    .dataframe tbody tr th:only-of-type {\n        vertical-align: middle;\n    }\n\n    .dataframe tbody tr th {\n        vertical-align: top;\n    }\n\n    .dataframe thead th {\n        text-align: right;\n    }\n</style>\n<table border=\"1\" class=\"dataframe\">\n  <thead>\n    <tr style=\"text-align: right;\">\n      <th></th>\n      <th>text</th>\n      <th>grade</th>\n      <th>date_time</th>\n      <th>duration</th>\n      <th>city</th>\n      <th>state</th>\n      <th>shape_reported</th>\n      <th>shape</th>\n      <th>shape_category</th>\n      <th>hour</th>\n      <th>time_of_day</th>\n      <th>month</th>\n      <th>season</th>\n    </tr>\n  </thead>\n  <tbody>\n    <tr>\n      <th>0</th>\n      <td>Translucent cylindrical silent aircraft Seen n...</td>\n      <td>College Level</td>\n      <td>10/6/20 14:40</td>\n      <td>10 seconds</td>\n      <td>Alexander</td>\n      <td>NC</td>\n      <td>Cylinder</td>\n      <td>Cylinder</td>\n      <td>Cylinder</td>\n      <td>14.0</td>\n      <td>Afternoon</td>\n      <td>10.0</td>\n      <td>Fall</td>\n    </tr>\n    <tr>\n      <th>1</th>\n      <td>Tonight around 11 pm i walked outside to see i...</td>\n      <td>5th Grade</td>\n      <td>3/20/19 23:00</td>\n      <td>1 minute</td>\n      <td>Wright</td>\n      <td>AR</td>\n      <td>Disk</td>\n      <td>Disk</td>\n      <td>Disk</td>\n      <td>23.0</td>\n      <td>Night</td>\n      <td>3.0</td>\n      <td>Winter</td>\n    </tr>\n    <tr>\n      <th>2</th>\n      <td>4 triangular sightings with different light pa...</td>\n      <td>7th Grade</td>\n      <td>4/16/19 21:30</td>\n      <td>30 minutes</td>\n      <td>Titusville</td>\n      <td>FL</td>\n      <td>Triangle</td>\n      <td>Triangle</td>\n      <td>Triangle</td>\n      <td>21.0</td>\n      <td>Night</td>\n      <td>4.0</td>\n      <td>Spring</td>\n    </tr>\n    <tr>\n      <th>3</th>\n      <td>Bright orange lights seen by a family of 4 in ...</td>\n      <td>7th Grade</td>\n      <td>4/16/19 21:30</td>\n      <td>08:00</td>\n      <td>Knoxville</td>\n      <td>IL</td>\n      <td>Light</td>\n      <td>Light</td>\n      <td>Light</td>\n      <td>21.0</td>\n      <td>Night</td>\n      <td>4.0</td>\n      <td>Spring</td>\n    </tr>\n    <tr>\n      <th>6</th>\n      <td>Quick white flashing streak that turned greeni...</td>\n      <td>6th Grade</td>\n      <td>4/22/19 01:11</td>\n      <td>10 seconds</td>\n      <td>St. Petersburg</td>\n      <td>FL</td>\n      <td>Flash</td>\n      <td>Flash</td>\n      <td>Flash</td>\n      <td>1.0</td>\n      <td>Dawn</td>\n      <td>4.0</td>\n      <td>Spring</td>\n    </tr>\n  </tbody>\n</table>\n</div>"
     },
     "metadata": {},
     "execution_count": 9
    }
   ],
   "source": [
    "ufo_df['season'] = ''\n",
    "bins = [0,3,6,9,12]\n",
    "labels = [\"Winter\",\"Spring\",\"Summer\",\"Fall\"]\n",
    "ufo_df['season'] = pd.cut(ufo_df['month'], bins=bins, labels=labels)\n",
    "ufo_df.head()"
   ]
  },
  {
   "cell_type": "code",
   "execution_count": 10,
   "metadata": {},
   "outputs": [
    {
     "output_type": "execute_result",
     "data": {
      "text/plain": [
       "                                                    text          grade  \\\n",
       "0      Translucent cylindrical silent aircraft Seen n...  College Level   \n",
       "1      Tonight around 11 pm i walked outside to see i...      5th Grade   \n",
       "2      4 triangular sightings with different light pa...      7th Grade   \n",
       "3      Bright orange lights seen by a family of 4 in ...      7th Grade   \n",
       "6      Quick white flashing streak that turned greeni...      6th Grade   \n",
       "...                                                  ...            ...   \n",
       "15094  In early Nov.2004 while on a hunting outing I ...      7th Grade   \n",
       "15095  Light or energy flying object no lareger than ...      9th Grade   \n",
       "15096  Small silent UFO witnessed by 6 people flying ...      7th Grade   \n",
       "15097  Didn't see object when I took the picture.  No...      7th Grade   \n",
       "15098  a small, yellow, plain disk that hovered slowl...      6th Grade   \n",
       "\n",
       "            date_time time_of_day  season        duration  \\\n",
       "0       10/6/20 14:40   Afternoon    Fall      10 seconds   \n",
       "1       3/20/19 23:00       Night  Winter        1 minute   \n",
       "2       4/16/19 21:30       Night  Spring      30 minutes   \n",
       "3       4/16/19 21:30       Night  Spring           08:00   \n",
       "6       4/22/19 01:11        Dawn  Spring      10 seconds   \n",
       "...               ...         ...     ...             ...   \n",
       "15094  11/10/04 06:00        Dawn    Fall      15 minutes   \n",
       "15095    5/1/05 03:00        Dawn  Spring  1 or 2 minutes   \n",
       "15096    5/5/05 22:00       Night  Spring   20-30 seconds   \n",
       "15097   5/23/05 21:20       Night  Spring       2 seconds   \n",
       "15098   6/17/05 17:00   Afternoon  Spring   20-30 seconds   \n",
       "\n",
       "                       city state shape_reported     shape shape_category  \n",
       "0                 Alexander    NC       Cylinder  Cylinder       Cylinder  \n",
       "1                    Wright    AR           Disk      Disk           Disk  \n",
       "2                Titusville    FL       Triangle  Triangle       Triangle  \n",
       "3                 Knoxville    IL          Light     Light          Light  \n",
       "6            St. Petersburg    FL          Flash     Flash          Flash  \n",
       "...                     ...   ...            ...       ...            ...  \n",
       "15094              Piedmont    KS          Light     Light          Light  \n",
       "15095               Wayland    MA          Light     Light          Light  \n",
       "15096  Troy/Rochester Hills    MI       Triangle  Triangle       Triangle  \n",
       "15097          Little Falls    MN          Other     Other          Other  \n",
       "15098               Chester    IL           Disk      Disk           Disk  \n",
       "\n",
       "[12906 rows x 11 columns]"
      ],
      "text/html": "<div>\n<style scoped>\n    .dataframe tbody tr th:only-of-type {\n        vertical-align: middle;\n    }\n\n    .dataframe tbody tr th {\n        vertical-align: top;\n    }\n\n    .dataframe thead th {\n        text-align: right;\n    }\n</style>\n<table border=\"1\" class=\"dataframe\">\n  <thead>\n    <tr style=\"text-align: right;\">\n      <th></th>\n      <th>text</th>\n      <th>grade</th>\n      <th>date_time</th>\n      <th>time_of_day</th>\n      <th>season</th>\n      <th>duration</th>\n      <th>city</th>\n      <th>state</th>\n      <th>shape_reported</th>\n      <th>shape</th>\n      <th>shape_category</th>\n    </tr>\n  </thead>\n  <tbody>\n    <tr>\n      <th>0</th>\n      <td>Translucent cylindrical silent aircraft Seen n...</td>\n      <td>College Level</td>\n      <td>10/6/20 14:40</td>\n      <td>Afternoon</td>\n      <td>Fall</td>\n      <td>10 seconds</td>\n      <td>Alexander</td>\n      <td>NC</td>\n      <td>Cylinder</td>\n      <td>Cylinder</td>\n      <td>Cylinder</td>\n    </tr>\n    <tr>\n      <th>1</th>\n      <td>Tonight around 11 pm i walked outside to see i...</td>\n      <td>5th Grade</td>\n      <td>3/20/19 23:00</td>\n      <td>Night</td>\n      <td>Winter</td>\n      <td>1 minute</td>\n      <td>Wright</td>\n      <td>AR</td>\n      <td>Disk</td>\n      <td>Disk</td>\n      <td>Disk</td>\n    </tr>\n    <tr>\n      <th>2</th>\n      <td>4 triangular sightings with different light pa...</td>\n      <td>7th Grade</td>\n      <td>4/16/19 21:30</td>\n      <td>Night</td>\n      <td>Spring</td>\n      <td>30 minutes</td>\n      <td>Titusville</td>\n      <td>FL</td>\n      <td>Triangle</td>\n      <td>Triangle</td>\n      <td>Triangle</td>\n    </tr>\n    <tr>\n      <th>3</th>\n      <td>Bright orange lights seen by a family of 4 in ...</td>\n      <td>7th Grade</td>\n      <td>4/16/19 21:30</td>\n      <td>Night</td>\n      <td>Spring</td>\n      <td>08:00</td>\n      <td>Knoxville</td>\n      <td>IL</td>\n      <td>Light</td>\n      <td>Light</td>\n      <td>Light</td>\n    </tr>\n    <tr>\n      <th>6</th>\n      <td>Quick white flashing streak that turned greeni...</td>\n      <td>6th Grade</td>\n      <td>4/22/19 01:11</td>\n      <td>Dawn</td>\n      <td>Spring</td>\n      <td>10 seconds</td>\n      <td>St. Petersburg</td>\n      <td>FL</td>\n      <td>Flash</td>\n      <td>Flash</td>\n      <td>Flash</td>\n    </tr>\n    <tr>\n      <th>...</th>\n      <td>...</td>\n      <td>...</td>\n      <td>...</td>\n      <td>...</td>\n      <td>...</td>\n      <td>...</td>\n      <td>...</td>\n      <td>...</td>\n      <td>...</td>\n      <td>...</td>\n      <td>...</td>\n    </tr>\n    <tr>\n      <th>15094</th>\n      <td>In early Nov.2004 while on a hunting outing I ...</td>\n      <td>7th Grade</td>\n      <td>11/10/04 06:00</td>\n      <td>Dawn</td>\n      <td>Fall</td>\n      <td>15 minutes</td>\n      <td>Piedmont</td>\n      <td>KS</td>\n      <td>Light</td>\n      <td>Light</td>\n      <td>Light</td>\n    </tr>\n    <tr>\n      <th>15095</th>\n      <td>Light or energy flying object no lareger than ...</td>\n      <td>9th Grade</td>\n      <td>5/1/05 03:00</td>\n      <td>Dawn</td>\n      <td>Spring</td>\n      <td>1 or 2 minutes</td>\n      <td>Wayland</td>\n      <td>MA</td>\n      <td>Light</td>\n      <td>Light</td>\n      <td>Light</td>\n    </tr>\n    <tr>\n      <th>15096</th>\n      <td>Small silent UFO witnessed by 6 people flying ...</td>\n      <td>7th Grade</td>\n      <td>5/5/05 22:00</td>\n      <td>Night</td>\n      <td>Spring</td>\n      <td>20-30 seconds</td>\n      <td>Troy/Rochester Hills</td>\n      <td>MI</td>\n      <td>Triangle</td>\n      <td>Triangle</td>\n      <td>Triangle</td>\n    </tr>\n    <tr>\n      <th>15097</th>\n      <td>Didn't see object when I took the picture.  No...</td>\n      <td>7th Grade</td>\n      <td>5/23/05 21:20</td>\n      <td>Night</td>\n      <td>Spring</td>\n      <td>2 seconds</td>\n      <td>Little Falls</td>\n      <td>MN</td>\n      <td>Other</td>\n      <td>Other</td>\n      <td>Other</td>\n    </tr>\n    <tr>\n      <th>15098</th>\n      <td>a small, yellow, plain disk that hovered slowl...</td>\n      <td>6th Grade</td>\n      <td>6/17/05 17:00</td>\n      <td>Afternoon</td>\n      <td>Spring</td>\n      <td>20-30 seconds</td>\n      <td>Chester</td>\n      <td>IL</td>\n      <td>Disk</td>\n      <td>Disk</td>\n      <td>Disk</td>\n    </tr>\n  </tbody>\n</table>\n<p>12906 rows × 11 columns</p>\n</div>"
     },
     "metadata": {},
     "execution_count": 10
    }
   ],
   "source": [
    "ufo_df = ufo_df[['text','grade','date_time','time_of_day','season','duration','city','state','shape_reported','shape','shape_category']]\n",
    "ufo_df"
   ]
  },
  {
   "cell_type": "code",
   "execution_count": 11,
   "metadata": {},
   "outputs": [],
   "source": [
    "ufo_df.to_csv('Resources/dont_touch_me.csv',index = False)"
   ]
  },
  {
   "cell_type": "code",
   "execution_count": null,
   "metadata": {},
   "outputs": [],
   "source": []
  }
 ]
}