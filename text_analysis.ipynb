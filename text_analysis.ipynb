{
 "metadata": {
  "language_info": {
   "codemirror_mode": {
    "name": "ipython",
    "version": 3
   },
   "file_extension": ".py",
   "mimetype": "text/x-python",
   "name": "python",
   "nbconvert_exporter": "python",
   "pygments_lexer": "ipython3",
   "version": "3.8.3-final"
  },
  "orig_nbformat": 2,
  "kernelspec": {
   "name": "python3",
   "display_name": "Python 3",
   "language": "python"
  }
 },
 "nbformat": 4,
 "nbformat_minor": 2,
 "cells": [
  {
   "cell_type": "code",
   "execution_count": 1,
   "metadata": {},
   "outputs": [],
   "source": [
    "from text_analyzer import analyze_comment\n",
    "import pandas as pd \n"
   ]
  },
  {
   "cell_type": "code",
   "execution_count": 2,
   "metadata": {},
   "outputs": [],
   "source": [
    "data = 'Resources/scrubbed.csv'\n",
    "df = pd.read_csv(data)"
   ]
  },
  {
   "cell_type": "code",
   "execution_count": 7,
   "metadata": {},
   "outputs": [
    {
     "output_type": "execute_result",
     "data": {
      "text/plain": [
       "               datetime                  city state country     shape  \\\n",
       "0      10/10/1949 20:30            san marcos    tx      us  cylinder   \n",
       "1      10/10/1949 21:00          lackland afb    tx     NaN     light   \n",
       "2      10/10/1955 17:00  chester (uk/england)   NaN      gb    circle   \n",
       "3      10/10/1956 21:00                  edna    tx      us    circle   \n",
       "4      10/10/1960 20:00               kaneohe    hi      us     light   \n",
       "...                 ...                   ...   ...     ...       ...   \n",
       "80327    9/9/2013 21:15             nashville    tn      us     light   \n",
       "80328    9/9/2013 22:00                 boise    id      us    circle   \n",
       "80329    9/9/2013 22:00                  napa    ca      us     other   \n",
       "80330    9/9/2013 22:20                vienna    va      us    circle   \n",
       "80331    9/9/2013 23:00                edmond    ok      us     cigar   \n",
       "\n",
       "      duration (seconds) duration (hours/min)  \\\n",
       "0                   2700           45 minutes   \n",
       "1                   7200              1-2 hrs   \n",
       "2                     20           20 seconds   \n",
       "3                     20             1/2 hour   \n",
       "4                    900           15 minutes   \n",
       "...                  ...                  ...   \n",
       "80327                600           10 minutes   \n",
       "80328               1200           20 minutes   \n",
       "80329               1200                 hour   \n",
       "80330                  5            5 seconds   \n",
       "80331               1020           17 minutes   \n",
       "\n",
       "                                                comments date posted  \\\n",
       "0      This event took place in early fall around 194...   4/27/2004   \n",
       "1      1949 Lackland AFB&#44 TX.  Lights racing acros...  12/16/2005   \n",
       "2      Green/Orange circular disc over Chester&#44 En...   1/21/2008   \n",
       "3      My older brother and twin sister were leaving ...   1/17/2004   \n",
       "4      AS a Marine 1st Lt. flying an FJ4B fighter/att...   1/22/2004   \n",
       "...                                                  ...         ...   \n",
       "80327  Round from the distance/slowly changing colors...   9/30/2013   \n",
       "80328  Boise&#44 ID&#44 spherical&#44 20 min&#44 10 r...   9/30/2013   \n",
       "80329                                       Napa UFO&#44   9/30/2013   \n",
       "80330  Saw a five gold lit cicular craft moving fastl...   9/30/2013   \n",
       "80331  2 witnesses 2  miles apart&#44 Red &amp; White...   9/30/2013   \n",
       "\n",
       "         latitude  longitude   \n",
       "0      29.8830556  -97.941111  \n",
       "1        29.38421  -98.581082  \n",
       "2            53.2   -2.916667  \n",
       "3      28.9783333  -96.645833  \n",
       "4      21.4180556 -157.803611  \n",
       "...           ...         ...  \n",
       "80327     36.1658  -86.784444  \n",
       "80328     43.6136 -116.202500  \n",
       "80329     38.2972 -122.284444  \n",
       "80330     38.9011  -77.265556  \n",
       "80331     35.6528  -97.477778  \n",
       "\n",
       "[80332 rows x 11 columns]"
      ],
      "text/html": "<div>\n<style scoped>\n    .dataframe tbody tr th:only-of-type {\n        vertical-align: middle;\n    }\n\n    .dataframe tbody tr th {\n        vertical-align: top;\n    }\n\n    .dataframe thead th {\n        text-align: right;\n    }\n</style>\n<table border=\"1\" class=\"dataframe\">\n  <thead>\n    <tr style=\"text-align: right;\">\n      <th></th>\n      <th>datetime</th>\n      <th>city</th>\n      <th>state</th>\n      <th>country</th>\n      <th>shape</th>\n      <th>duration (seconds)</th>\n      <th>duration (hours/min)</th>\n      <th>comments</th>\n      <th>date posted</th>\n      <th>latitude</th>\n      <th>longitude</th>\n    </tr>\n  </thead>\n  <tbody>\n    <tr>\n      <th>0</th>\n      <td>10/10/1949 20:30</td>\n      <td>san marcos</td>\n      <td>tx</td>\n      <td>us</td>\n      <td>cylinder</td>\n      <td>2700</td>\n      <td>45 minutes</td>\n      <td>This event took place in early fall around 194...</td>\n      <td>4/27/2004</td>\n      <td>29.8830556</td>\n      <td>-97.941111</td>\n    </tr>\n    <tr>\n      <th>1</th>\n      <td>10/10/1949 21:00</td>\n      <td>lackland afb</td>\n      <td>tx</td>\n      <td>NaN</td>\n      <td>light</td>\n      <td>7200</td>\n      <td>1-2 hrs</td>\n      <td>1949 Lackland AFB&amp;#44 TX.  Lights racing acros...</td>\n      <td>12/16/2005</td>\n      <td>29.38421</td>\n      <td>-98.581082</td>\n    </tr>\n    <tr>\n      <th>2</th>\n      <td>10/10/1955 17:00</td>\n      <td>chester (uk/england)</td>\n      <td>NaN</td>\n      <td>gb</td>\n      <td>circle</td>\n      <td>20</td>\n      <td>20 seconds</td>\n      <td>Green/Orange circular disc over Chester&amp;#44 En...</td>\n      <td>1/21/2008</td>\n      <td>53.2</td>\n      <td>-2.916667</td>\n    </tr>\n    <tr>\n      <th>3</th>\n      <td>10/10/1956 21:00</td>\n      <td>edna</td>\n      <td>tx</td>\n      <td>us</td>\n      <td>circle</td>\n      <td>20</td>\n      <td>1/2 hour</td>\n      <td>My older brother and twin sister were leaving ...</td>\n      <td>1/17/2004</td>\n      <td>28.9783333</td>\n      <td>-96.645833</td>\n    </tr>\n    <tr>\n      <th>4</th>\n      <td>10/10/1960 20:00</td>\n      <td>kaneohe</td>\n      <td>hi</td>\n      <td>us</td>\n      <td>light</td>\n      <td>900</td>\n      <td>15 minutes</td>\n      <td>AS a Marine 1st Lt. flying an FJ4B fighter/att...</td>\n      <td>1/22/2004</td>\n      <td>21.4180556</td>\n      <td>-157.803611</td>\n    </tr>\n    <tr>\n      <th>...</th>\n      <td>...</td>\n      <td>...</td>\n      <td>...</td>\n      <td>...</td>\n      <td>...</td>\n      <td>...</td>\n      <td>...</td>\n      <td>...</td>\n      <td>...</td>\n      <td>...</td>\n      <td>...</td>\n    </tr>\n    <tr>\n      <th>80327</th>\n      <td>9/9/2013 21:15</td>\n      <td>nashville</td>\n      <td>tn</td>\n      <td>us</td>\n      <td>light</td>\n      <td>600</td>\n      <td>10 minutes</td>\n      <td>Round from the distance/slowly changing colors...</td>\n      <td>9/30/2013</td>\n      <td>36.1658</td>\n      <td>-86.784444</td>\n    </tr>\n    <tr>\n      <th>80328</th>\n      <td>9/9/2013 22:00</td>\n      <td>boise</td>\n      <td>id</td>\n      <td>us</td>\n      <td>circle</td>\n      <td>1200</td>\n      <td>20 minutes</td>\n      <td>Boise&amp;#44 ID&amp;#44 spherical&amp;#44 20 min&amp;#44 10 r...</td>\n      <td>9/30/2013</td>\n      <td>43.6136</td>\n      <td>-116.202500</td>\n    </tr>\n    <tr>\n      <th>80329</th>\n      <td>9/9/2013 22:00</td>\n      <td>napa</td>\n      <td>ca</td>\n      <td>us</td>\n      <td>other</td>\n      <td>1200</td>\n      <td>hour</td>\n      <td>Napa UFO&amp;#44</td>\n      <td>9/30/2013</td>\n      <td>38.2972</td>\n      <td>-122.284444</td>\n    </tr>\n    <tr>\n      <th>80330</th>\n      <td>9/9/2013 22:20</td>\n      <td>vienna</td>\n      <td>va</td>\n      <td>us</td>\n      <td>circle</td>\n      <td>5</td>\n      <td>5 seconds</td>\n      <td>Saw a five gold lit cicular craft moving fastl...</td>\n      <td>9/30/2013</td>\n      <td>38.9011</td>\n      <td>-77.265556</td>\n    </tr>\n    <tr>\n      <th>80331</th>\n      <td>9/9/2013 23:00</td>\n      <td>edmond</td>\n      <td>ok</td>\n      <td>us</td>\n      <td>cigar</td>\n      <td>1020</td>\n      <td>17 minutes</td>\n      <td>2 witnesses 2  miles apart&amp;#44 Red &amp;amp; White...</td>\n      <td>9/30/2013</td>\n      <td>35.6528</td>\n      <td>-97.477778</td>\n    </tr>\n  </tbody>\n</table>\n<p>80332 rows × 11 columns</p>\n</div>"
     },
     "metadata": {},
     "execution_count": 7
    }
   ],
   "source": [
    "df"
   ]
  },
  {
   "cell_type": "code",
   "execution_count": 6,
   "metadata": {
    "tags": []
   },
   "outputs": [
    {
     "output_type": "execute_result",
     "data": {
      "text/plain": [
       "                                            comments word_count  \\\n",
       "0  This event took place in early fall around 194...         24   \n",
       "1  1949 Lackland AFB&#44 TX.  Lights racing acros...         17   \n",
       "2  Green/Orange circular disc over Chester&#44 En...          6   \n",
       "3  My older brother and twin sister were leaving ...         26   \n",
       "4  AS a Marine 1st Lt. flying an FJ4B fighter/att...         25   \n",
       "\n",
       "  avg_word_length  \n",
       "0         4.66667  \n",
       "1         4.58824  \n",
       "2         7.66667  \n",
       "3         4.34615  \n",
       "4             5.2  "
      ],
      "text/html": "<div>\n<style scoped>\n    .dataframe tbody tr th:only-of-type {\n        vertical-align: middle;\n    }\n\n    .dataframe tbody tr th {\n        vertical-align: top;\n    }\n\n    .dataframe thead th {\n        text-align: right;\n    }\n</style>\n<table border=\"1\" class=\"dataframe\">\n  <thead>\n    <tr style=\"text-align: right;\">\n      <th></th>\n      <th>comments</th>\n      <th>word_count</th>\n      <th>avg_word_length</th>\n    </tr>\n  </thead>\n  <tbody>\n    <tr>\n      <th>0</th>\n      <td>This event took place in early fall around 194...</td>\n      <td>24</td>\n      <td>4.66667</td>\n    </tr>\n    <tr>\n      <th>1</th>\n      <td>1949 Lackland AFB&amp;#44 TX.  Lights racing acros...</td>\n      <td>17</td>\n      <td>4.58824</td>\n    </tr>\n    <tr>\n      <th>2</th>\n      <td>Green/Orange circular disc over Chester&amp;#44 En...</td>\n      <td>6</td>\n      <td>7.66667</td>\n    </tr>\n    <tr>\n      <th>3</th>\n      <td>My older brother and twin sister were leaving ...</td>\n      <td>26</td>\n      <td>4.34615</td>\n    </tr>\n    <tr>\n      <th>4</th>\n      <td>AS a Marine 1st Lt. flying an FJ4B fighter/att...</td>\n      <td>25</td>\n      <td>5.2</td>\n    </tr>\n  </tbody>\n</table>\n</div>"
     },
     "metadata": {},
     "execution_count": 6
    }
   ],
   "source": [
    "df_comments = df[['comments']]\n",
    "\n",
    "df_comments['word_count'] = ''\n",
    "df_comments['avg_word_length'] = ''\n",
    "\n",
    "for index,row in df_comments.iterrows():\n",
    "    (word_count,average_word_length) = analyze_comment(df_comments.loc[index,'comments'])\n",
    "    df_comments.loc[index,'word_count'] = word_count\n",
    "    df_comments.loc[index,'avg_word_length'] = average_word_length\n",
    "\n",
    "df_comments.head()"
   ]
  },
  {
   "cell_type": "code",
   "execution_count": null,
   "metadata": {},
   "outputs": [],
   "source": []
  }
 ]
}