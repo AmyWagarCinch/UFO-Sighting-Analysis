{
 "metadata": {
  "language_info": {
   "codemirror_mode": {
    "name": "ipython",
    "version": 3
   },
   "file_extension": ".py",
   "mimetype": "text/x-python",
   "name": "python",
   "nbconvert_exporter": "python",
   "pygments_lexer": "ipython3",
   "version": "3.8.3-final"
  },
  "orig_nbformat": 2,
  "kernelspec": {
   "name": "python3",
   "display_name": "Python 3",
   "language": "python"
  }
 },
 "nbformat": 4,
 "nbformat_minor": 2,
 "cells": [
  {
   "source": [
    " adds all of Amy's work doing shapes to the csv"
   ],
   "cell_type": "markdown",
   "metadata": {}
  },
  {
   "cell_type": "code",
   "execution_count": 5,
   "metadata": {},
   "outputs": [],
   "source": [
    "# Dependencies and Setup\n",
    "import pandas as pd\n",
    "import numpy as np\n",
    "\n",
    "# File to Load (Remember to Change These)\n",
    "data = \"Resources/dont_touch_me.csv\"\n",
    "\n",
    "\n",
    "# Read School and Student Data File and store into Pandas DataFrames\n",
    "UFO_data = pd.read_csv(data)\n",
    "\n",
    "\n",
    "UFO_data[\"shape_reported\"] = UFO_data[\"shape\"]\n",
    "\n",
    "UFO_data[\"shape\"] = UFO_data[\"shape\"].replace({\"cigar\": \"cylinder\", \"circle\": \"disk\", \"changed\": \"changing\",\"round\":\"sphere\", \"fireball\": \"sphere\", \"formation\":\"undefined\"})\n",
    "\n",
    "UFO_data[\"shape_category\"] = UFO_data[\"shape\"]\n",
    "UFO_data[\"shape_category\"] = UFO_data[\"shape_category\"].replace({\"disk\": \"roundish\", \"sphere\": \"roundish\", \"undefined\": \"other\", \"unknown\":\"other\",\"flash\":\"light\",\"egg\":\"oblong\",\"teardrop\":\"oblong\", \"cylinder\":\"oblong\",\"rectangle\":\"oblong\",\"cone\":\"triangulesque\",\"triangle\":\"triangulesque\",\"hexagon\":\"roundish\",\"dome\":\"triangulesque\"})\n",
    "\n",
    "\n"
   ]
  },
  {
   "cell_type": "code",
   "execution_count": 6,
   "metadata": {},
   "outputs": [
    {
     "output_type": "execute_result",
     "data": {
      "text/plain": [
       "   Unnamed: 0                                               text  \\\n",
       "0           0  Translucent cylindrical silent aircraft Seen n...   \n",
       "1           1  Tonight around 11 pm i walked outside to see i...   \n",
       "2           2  4 triangular sightings with different light pa...   \n",
       "3           3  Bright orange lights seen by a family of 4 in ...   \n",
       "4           4                                     MADAR Node 145   \n",
       "\n",
       "       date_time        city state     shape    duration          grade  \\\n",
       "0  10/6/20 14:40   Alexander    NC  Cylinder  10 seconds  College Level   \n",
       "1  3/20/19 23:00      Wright    AR      Disk    1 minute      5th Grade   \n",
       "2  4/16/19 21:30  Titusville    FL  Triangle  30 minutes      7th Grade   \n",
       "3  4/16/19 21:30   Knoxville    IL     Light       08:00      7th Grade   \n",
       "4   4/9/19 21:41     Norwood    NJ       NaN         NaN      5th Grade   \n",
       "\n",
       "  shape_reported shape_category  \n",
       "0       Cylinder       Cylinder  \n",
       "1           Disk           Disk  \n",
       "2       Triangle       Triangle  \n",
       "3          Light          Light  \n",
       "4            NaN            NaN  "
      ],
      "text/html": "<div>\n<style scoped>\n    .dataframe tbody tr th:only-of-type {\n        vertical-align: middle;\n    }\n\n    .dataframe tbody tr th {\n        vertical-align: top;\n    }\n\n    .dataframe thead th {\n        text-align: right;\n    }\n</style>\n<table border=\"1\" class=\"dataframe\">\n  <thead>\n    <tr style=\"text-align: right;\">\n      <th></th>\n      <th>Unnamed: 0</th>\n      <th>text</th>\n      <th>date_time</th>\n      <th>city</th>\n      <th>state</th>\n      <th>shape</th>\n      <th>duration</th>\n      <th>grade</th>\n      <th>shape_reported</th>\n      <th>shape_category</th>\n    </tr>\n  </thead>\n  <tbody>\n    <tr>\n      <th>0</th>\n      <td>0</td>\n      <td>Translucent cylindrical silent aircraft Seen n...</td>\n      <td>10/6/20 14:40</td>\n      <td>Alexander</td>\n      <td>NC</td>\n      <td>Cylinder</td>\n      <td>10 seconds</td>\n      <td>College Level</td>\n      <td>Cylinder</td>\n      <td>Cylinder</td>\n    </tr>\n    <tr>\n      <th>1</th>\n      <td>1</td>\n      <td>Tonight around 11 pm i walked outside to see i...</td>\n      <td>3/20/19 23:00</td>\n      <td>Wright</td>\n      <td>AR</td>\n      <td>Disk</td>\n      <td>1 minute</td>\n      <td>5th Grade</td>\n      <td>Disk</td>\n      <td>Disk</td>\n    </tr>\n    <tr>\n      <th>2</th>\n      <td>2</td>\n      <td>4 triangular sightings with different light pa...</td>\n      <td>4/16/19 21:30</td>\n      <td>Titusville</td>\n      <td>FL</td>\n      <td>Triangle</td>\n      <td>30 minutes</td>\n      <td>7th Grade</td>\n      <td>Triangle</td>\n      <td>Triangle</td>\n    </tr>\n    <tr>\n      <th>3</th>\n      <td>3</td>\n      <td>Bright orange lights seen by a family of 4 in ...</td>\n      <td>4/16/19 21:30</td>\n      <td>Knoxville</td>\n      <td>IL</td>\n      <td>Light</td>\n      <td>08:00</td>\n      <td>7th Grade</td>\n      <td>Light</td>\n      <td>Light</td>\n    </tr>\n    <tr>\n      <th>4</th>\n      <td>4</td>\n      <td>MADAR Node 145</td>\n      <td>4/9/19 21:41</td>\n      <td>Norwood</td>\n      <td>NJ</td>\n      <td>NaN</td>\n      <td>NaN</td>\n      <td>5th Grade</td>\n      <td>NaN</td>\n      <td>NaN</td>\n    </tr>\n  </tbody>\n</table>\n</div>"
     },
     "metadata": {},
     "execution_count": 6
    }
   ],
   "source": [
    "UFO_data.head()\n"
   ]
  },
  {
   "cell_type": "code",
   "execution_count": 8,
   "metadata": {},
   "outputs": [
    {
     "output_type": "execute_result",
     "data": {
      "text/plain": [
       "                                                text          grade  \\\n",
       "0  Translucent cylindrical silent aircraft Seen n...  College Level   \n",
       "1  Tonight around 11 pm i walked outside to see i...      5th Grade   \n",
       "2  4 triangular sightings with different light pa...      7th Grade   \n",
       "3  Bright orange lights seen by a family of 4 in ...      7th Grade   \n",
       "4                                     MADAR Node 145      5th Grade   \n",
       "\n",
       "       date_time    duration        city state shape_reported     shape  \\\n",
       "0  10/6/20 14:40  10 seconds   Alexander    NC       Cylinder  Cylinder   \n",
       "1  3/20/19 23:00    1 minute      Wright    AR           Disk      Disk   \n",
       "2  4/16/19 21:30  30 minutes  Titusville    FL       Triangle  Triangle   \n",
       "3  4/16/19 21:30       08:00   Knoxville    IL          Light     Light   \n",
       "4   4/9/19 21:41         NaN     Norwood    NJ            NaN       NaN   \n",
       "\n",
       "  shape_category  \n",
       "0       Cylinder  \n",
       "1           Disk  \n",
       "2       Triangle  \n",
       "3          Light  \n",
       "4            NaN  "
      ],
      "text/html": "<div>\n<style scoped>\n    .dataframe tbody tr th:only-of-type {\n        vertical-align: middle;\n    }\n\n    .dataframe tbody tr th {\n        vertical-align: top;\n    }\n\n    .dataframe thead th {\n        text-align: right;\n    }\n</style>\n<table border=\"1\" class=\"dataframe\">\n  <thead>\n    <tr style=\"text-align: right;\">\n      <th></th>\n      <th>text</th>\n      <th>grade</th>\n      <th>date_time</th>\n      <th>duration</th>\n      <th>city</th>\n      <th>state</th>\n      <th>shape_reported</th>\n      <th>shape</th>\n      <th>shape_category</th>\n    </tr>\n  </thead>\n  <tbody>\n    <tr>\n      <th>0</th>\n      <td>Translucent cylindrical silent aircraft Seen n...</td>\n      <td>College Level</td>\n      <td>10/6/20 14:40</td>\n      <td>10 seconds</td>\n      <td>Alexander</td>\n      <td>NC</td>\n      <td>Cylinder</td>\n      <td>Cylinder</td>\n      <td>Cylinder</td>\n    </tr>\n    <tr>\n      <th>1</th>\n      <td>Tonight around 11 pm i walked outside to see i...</td>\n      <td>5th Grade</td>\n      <td>3/20/19 23:00</td>\n      <td>1 minute</td>\n      <td>Wright</td>\n      <td>AR</td>\n      <td>Disk</td>\n      <td>Disk</td>\n      <td>Disk</td>\n    </tr>\n    <tr>\n      <th>2</th>\n      <td>4 triangular sightings with different light pa...</td>\n      <td>7th Grade</td>\n      <td>4/16/19 21:30</td>\n      <td>30 minutes</td>\n      <td>Titusville</td>\n      <td>FL</td>\n      <td>Triangle</td>\n      <td>Triangle</td>\n      <td>Triangle</td>\n    </tr>\n    <tr>\n      <th>3</th>\n      <td>Bright orange lights seen by a family of 4 in ...</td>\n      <td>7th Grade</td>\n      <td>4/16/19 21:30</td>\n      <td>08:00</td>\n      <td>Knoxville</td>\n      <td>IL</td>\n      <td>Light</td>\n      <td>Light</td>\n      <td>Light</td>\n    </tr>\n    <tr>\n      <th>4</th>\n      <td>MADAR Node 145</td>\n      <td>5th Grade</td>\n      <td>4/9/19 21:41</td>\n      <td>NaN</td>\n      <td>Norwood</td>\n      <td>NJ</td>\n      <td>NaN</td>\n      <td>NaN</td>\n      <td>NaN</td>\n    </tr>\n  </tbody>\n</table>\n</div>"
     },
     "metadata": {},
     "execution_count": 8
    }
   ],
   "source": [
    "UFO_data = UFO_data[['text','grade','date_time','duration', 'city','state','shape_reported','shape','shape_category']]\n",
    "UFO_data.head()"
   ]
  },
  {
   "cell_type": "code",
   "execution_count": 9,
   "metadata": {},
   "outputs": [],
   "source": [
    "UFO_data.to_csv('Resources/dont_touch_me.csv',index=False)"
   ]
  },
  {
   "cell_type": "code",
   "execution_count": null,
   "metadata": {},
   "outputs": [],
   "source": []
  }
 ]
}