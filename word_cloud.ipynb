{
 "metadata": {
  "language_info": {
   "codemirror_mode": {
    "name": "ipython",
    "version": 3
   },
   "file_extension": ".py",
   "mimetype": "text/x-python",
   "name": "python",
   "nbconvert_exporter": "python",
   "pygments_lexer": "ipython3",
   "version": "3.8.3-final"
  },
  "orig_nbformat": 2,
  "kernelspec": {
   "name": "python3",
   "display_name": "Python 3",
   "language": "python"
  }
 },
 "nbformat": 4,
 "nbformat_minor": 2,
 "cells": [
  {
   "cell_type": "code",
   "execution_count": 1,
   "metadata": {},
   "outputs": [],
   "source": [
    "from text_analyzer import analyze_comment\n",
    "import pandas as pd \n",
    "from collections import Counter"
   ]
  },
  {
   "cell_type": "code",
   "execution_count": 2,
   "metadata": {},
   "outputs": [],
   "source": [
    "data = 'Resources/scrubbed.csv'\n",
    "df = pd.read_csv(data)"
   ]
  },
  {
   "cell_type": "code",
   "execution_count": 3,
   "metadata": {},
   "outputs": [
    {
     "output_type": "execute_result",
     "data": {
      "text/plain": [
       "[('the', 36175),\n",
       " ('in', 33352),\n",
       " ('a', 31392),\n",
       " ('and', 25575),\n",
       " ('of', 20835),\n",
       " ('to', 16060),\n",
       " ('light', 15778),\n",
       " ('lights', 15172),\n",
       " ('i', 15102),\n",
       " ('over', 13704)]"
      ]
     },
     "metadata": {},
     "execution_count": 3
    }
   ],
   "source": [
    "df_comments = df[['comments']]\n",
    "word_counter = Counter()\n",
    "\n",
    "for index,row in df_comments.iterrows():\n",
    "    words = str(df_comments.loc[index,'comments']).split()\n",
    "    for word in words:\n",
    "        word = word.lower()\n",
    "        word_counter[word] += 1\n",
    "\n",
    "word_counter.most_common(10)\n",
    "cleaning_word_counter = word_counter\n",
    "del cleaning_word_counter['the']\n",
    "cleaning_word_counter.most_common(10)\n",
    "\n"
   ]
  },
  {
   "cell_type": "code",
   "execution_count": 6,
   "metadata": {},
   "outputs": [
    {
     "output_type": "execute_result",
     "data": {
      "text/plain": [
       "[('and', 25575),\n",
       " ('of', 20835),\n",
       " ('to', 16060),\n",
       " ('light', 15778),\n",
       " ('lights', 15172),\n",
       " ('i', 15102),\n",
       " ('over', 13704),\n",
       " ('object', 13315),\n",
       " ('bright', 12463),\n",
       " ('was', 12384)]"
      ]
     },
     "metadata": {},
     "execution_count": 6
    }
   ],
   "source": [
    "cleaning_word_counter = word_counter\n",
    "del cleaning_word_counter['the']\n",
    "del cleaning_word_counter['in']\n",
    "del cleaning_word_counter['a']\n",
    "cleaning_word_counter.most_common(10)"
   ]
  },
  {
   "cell_type": "code",
   "execution_count": null,
   "metadata": {},
   "outputs": [],
   "source": []
  }
 ]
}