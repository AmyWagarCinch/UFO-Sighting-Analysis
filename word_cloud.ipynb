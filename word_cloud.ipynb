{
 "metadata": {
  "language_info": {
   "codemirror_mode": {
    "name": "ipython",
    "version": 3
   },
   "file_extension": ".py",
   "mimetype": "text/x-python",
   "name": "python",
   "nbconvert_exporter": "python",
   "pygments_lexer": "ipython3",
   "version": "3.8.3-final"
  },
  "orig_nbformat": 2,
  "kernelspec": {
   "name": "python3",
   "display_name": "Python 3",
   "language": "python"
  }
 },
 "nbformat": 4,
 "nbformat_minor": 2,
 "cells": [
  {
   "cell_type": "code",
   "execution_count": 1,
   "metadata": {},
   "outputs": [],
   "source": [
    "#need to pip install wordcloud for this\n",
    "import pandas as pd \n",
    "import matplotlib.pyplot as pPlot\n",
    "from wordcloud import WordCloud, STOPWORDS\n",
    "import numpy as npy\n",
    "from PIL import Image\n",
    "\n"
   ]
  },
  {
   "cell_type": "code",
   "execution_count": 2,
   "metadata": {},
   "outputs": [],
   "source": [
    "#get the data!\n",
    "data = 'Resources/scrubbed.csv'\n",
    "data2 = 'Resources/current_data.csv'\n",
    "df = pd.read_csv(data)\n",
    "df2 = pd.read_csv(data2)"
   ]
  },
  {
   "cell_type": "code",
   "execution_count": 3,
   "metadata": {},
   "outputs": [],
   "source": [
    "#just want the comments\n",
    "df_comments = df[['comments']]\n",
    "df2_comments = df2[['text']]"
   ]
  },
  {
   "cell_type": "code",
   "execution_count": 4,
   "metadata": {},
   "outputs": [],
   "source": [
    "#get all the comments into a single string\n",
    "lol = ''\n",
    "for index,row in df_comments.iterrows():\n",
    "    lol = lol + str(df_comments.loc[index,'comments'])\n",
    "\n",
    "lol2 = ''\n",
    "for index,row in df2_comments.iterrows():\n",
    "    lol2 = lol2 + str(df2_comments.loc[index,'text'])"
   ]
  },
  {
   "cell_type": "code",
   "execution_count": 6,
   "metadata": {},
   "outputs": [],
   "source": [
    "#using current data,but getting it for ohio washington only\n",
    "ohio_df = df2[df2['state']=='OH']\n",
    "ohio_comments = ohio_df[['text']]\n",
    "ohio_lol = ''\n",
    "for index,row in ohio_comments.iterrows():\n",
    "    ohio_lol = ohio_lol + str(ohio_comments.loc[index,'text'])"
   ]
  },
  {
   "cell_type": "code",
   "execution_count": 10,
   "metadata": {},
   "outputs": [],
   "source": [
    "wa_df = df2[df2['state']=='WA']\n",
    "wa_comments = wa_df[['text']]\n",
    "wa_lol = ''\n",
    "for index,row in wa_comments.iterrows():\n",
    "    wa_lol = wa_lol + str(wa_comments.loc[index,'text'])"
   ]
  },
  {
   "cell_type": "code",
   "execution_count": 7,
   "metadata": {},
   "outputs": [],
   "source": [
    "STOPWORDS.add('nuforc')\n",
    "STOPWORDS.add('note')\n",
    "STOPWORDS.add('witness')\n",
    "\n",
    "#this is from https://www.tutorialspoint.com/create-word-cloud-using-python#:~:text=%20Create%20Word%20Cloud%20using%20Python%20%201,interpreted%2C%20interactive%20and%20object-oriented%20scripting%20language.%20More%20\n",
    "\n",
    "#need to have a file called cloud.png for this to work, it is the shape you want to have the cloud be in\n",
    "def create_word_cloud(string1, string2):\n",
    "   maskArray = npy.array(Image.open(\"cloud.png\"))\n",
    "   cloud = WordCloud(background_color = \"white\", max_words = 200, mask = maskArray, stopwords = set(STOPWORDS))\n",
    "   cloud.generate(string1)\n",
    "   cloud.to_file(string2)\n",
    "#lol = lol.lower()\n",
    "#create_word_cloud(lol, 'UFO_wordCloud.png')\n",
    "\n",
    "#lol2 = lol2.lower()\n",
    "#create_word_cloud(lol2, 'UFO_wordCloud2.png')\n"
   ]
  },
  {
   "cell_type": "code",
   "execution_count": 9,
   "metadata": {},
   "outputs": [],
   "source": [
    "ohio_lol = ohio_lol.lower()\n",
    "create_word_cloud(ohio_lol, 'ohio_wordCloud.png')"
   ]
  },
  {
   "cell_type": "code",
   "execution_count": 11,
   "metadata": {},
   "outputs": [],
   "source": [
    "wa_lol = wa_lol.lower()\n",
    "create_word_cloud(wa_lol, 'wa_wordCloud.png')"
   ]
  },
  {
   "cell_type": "code",
   "execution_count": null,
   "metadata": {},
   "outputs": [],
   "source": []
  }
 ]
}