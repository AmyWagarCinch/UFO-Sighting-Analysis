{
 "metadata": {
  "language_info": {
   "codemirror_mode": {
    "name": "ipython",
    "version": 3
   },
   "file_extension": ".py",
   "mimetype": "text/x-python",
   "name": "python",
   "nbconvert_exporter": "python",
   "pygments_lexer": "ipython3",
   "version": "3.8.3-final"
  },
  "orig_nbformat": 2,
  "kernelspec": {
   "name": "python3",
   "display_name": "Python 3",
   "language": "python"
  }
 },
 "nbformat": 4,
 "nbformat_minor": 2,
 "cells": [
  {
   "cell_type": "code",
   "execution_count": 1,
   "metadata": {},
   "outputs": [],
   "source": [
    "#need to pip install wordcloud for this\n",
    "import pandas as pd \n",
    "import matplotlib.pyplot as pPlot\n",
    "from wordcloud import WordCloud, STOPWORDS\n",
    "import numpy as npy\n",
    "from PIL import Image\n",
    "\n"
   ]
  },
  {
   "cell_type": "code",
   "execution_count": 2,
   "metadata": {},
   "outputs": [],
   "source": [
    "#get the data!\n",
    "data = 'Resources/scrubbed.csv'\n",
    "df = pd.read_csv(data)"
   ]
  },
  {
   "cell_type": "code",
   "execution_count": 3,
   "metadata": {},
   "outputs": [],
   "source": [
    "#just want the comments\n",
    "df_comments = df[['comments']]"
   ]
  },
  {
   "cell_type": "code",
   "execution_count": 5,
   "metadata": {},
   "outputs": [],
   "source": [
    "#get all the comments into a single string\n",
    "lol = ''\n",
    "for index,row in df_comments.iterrows():\n",
    "    lol = lol + str(df_comments.loc[index,'comments'])\n"
   ]
  },
  {
   "cell_type": "code",
   "execution_count": 6,
   "metadata": {},
   "outputs": [],
   "source": [
    "#this is from https://www.tutorialspoint.com/create-word-cloud-using-python#:~:text=%20Create%20Word%20Cloud%20using%20Python%20%201,interpreted%2C%20interactive%20and%20object-oriented%20scripting%20language.%20More%20\n",
    "\n",
    "#need to have a file called cloud.png for this to work, it is the shape you want to have the cloud be in\n",
    "def create_word_cloud(string):\n",
    "   maskArray = npy.array(Image.open(\"cloud.png\"))\n",
    "   cloud = WordCloud(background_color = \"white\", max_words = 200, mask = maskArray, stopwords = set(STOPWORDS))\n",
    "   cloud.generate(string)\n",
    "   cloud.to_file(\"UFO_wordCloud.png\")\n",
    "lol = lol.lower()\n",
    "create_word_cloud(lol)"
   ]
  },
  {
   "cell_type": "code",
   "execution_count": null,
   "metadata": {},
   "outputs": [],
   "source": []
  }
 ]
}