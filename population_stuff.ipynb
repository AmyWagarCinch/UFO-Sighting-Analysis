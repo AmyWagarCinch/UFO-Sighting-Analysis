{
 "metadata": {
  "language_info": {
   "codemirror_mode": {
    "name": "ipython",
    "version": 3
   },
   "file_extension": ".py",
   "mimetype": "text/x-python",
   "name": "python",
   "nbconvert_exporter": "python",
   "pygments_lexer": "ipython3",
   "version": "3.8.3-final"
  },
  "orig_nbformat": 2,
  "kernelspec": {
   "name": "python3",
   "display_name": "Python 3",
   "language": "python"
  }
 },
 "nbformat": 4,
 "nbformat_minor": 2,
 "cells": [
  {
   "cell_type": "code",
   "execution_count": 1,
   "metadata": {},
   "outputs": [
    {
     "output_type": "execute_result",
     "data": {
      "text/plain": [
       "                                                text  ... shape_category\n",
       "0  Translucent cylindrical silent aircraft Seen n...  ...       Cylinder\n",
       "1  Tonight around 11 pm i walked outside to see i...  ...           Disk\n",
       "2  4 triangular sightings with different light pa...  ...       Triangle\n",
       "3  Bright orange lights seen by a family of 4 in ...  ...          Light\n",
       "4  Quick white flashing streak that turned greeni...  ...          Flash\n",
       "\n",
       "[5 rows x 11 columns]"
      ],
      "text/html": "<div>\n<style scoped>\n    .dataframe tbody tr th:only-of-type {\n        vertical-align: middle;\n    }\n\n    .dataframe tbody tr th {\n        vertical-align: top;\n    }\n\n    .dataframe thead th {\n        text-align: right;\n    }\n</style>\n<table border=\"1\" class=\"dataframe\">\n  <thead>\n    <tr style=\"text-align: right;\">\n      <th></th>\n      <th>text</th>\n      <th>grade</th>\n      <th>date_time</th>\n      <th>time_of_day</th>\n      <th>season</th>\n      <th>duration</th>\n      <th>city</th>\n      <th>state</th>\n      <th>shape_reported</th>\n      <th>shape</th>\n      <th>shape_category</th>\n    </tr>\n  </thead>\n  <tbody>\n    <tr>\n      <th>0</th>\n      <td>Translucent cylindrical silent aircraft Seen n...</td>\n      <td>College Level</td>\n      <td>10/6/20 14:40</td>\n      <td>Afternoon</td>\n      <td>Fall</td>\n      <td>10 seconds</td>\n      <td>Alexander</td>\n      <td>NC</td>\n      <td>Cylinder</td>\n      <td>Cylinder</td>\n      <td>Cylinder</td>\n    </tr>\n    <tr>\n      <th>1</th>\n      <td>Tonight around 11 pm i walked outside to see i...</td>\n      <td>5th Grade</td>\n      <td>3/20/19 23:00</td>\n      <td>Night</td>\n      <td>Winter</td>\n      <td>1 minute</td>\n      <td>Wright</td>\n      <td>AR</td>\n      <td>Disk</td>\n      <td>Disk</td>\n      <td>Disk</td>\n    </tr>\n    <tr>\n      <th>2</th>\n      <td>4 triangular sightings with different light pa...</td>\n      <td>7th Grade</td>\n      <td>4/16/19 21:30</td>\n      <td>Night</td>\n      <td>Spring</td>\n      <td>30 minutes</td>\n      <td>Titusville</td>\n      <td>FL</td>\n      <td>Triangle</td>\n      <td>Triangle</td>\n      <td>Triangle</td>\n    </tr>\n    <tr>\n      <th>3</th>\n      <td>Bright orange lights seen by a family of 4 in ...</td>\n      <td>7th Grade</td>\n      <td>4/16/19 21:30</td>\n      <td>Night</td>\n      <td>Spring</td>\n      <td>08:00</td>\n      <td>Knoxville</td>\n      <td>IL</td>\n      <td>Light</td>\n      <td>Light</td>\n      <td>Light</td>\n    </tr>\n    <tr>\n      <th>4</th>\n      <td>Quick white flashing streak that turned greeni...</td>\n      <td>6th Grade</td>\n      <td>4/22/19 01:11</td>\n      <td>Dawn</td>\n      <td>Spring</td>\n      <td>10 seconds</td>\n      <td>St. Petersburg</td>\n      <td>FL</td>\n      <td>Flash</td>\n      <td>Flash</td>\n      <td>Flash</td>\n    </tr>\n  </tbody>\n</table>\n</div>"
     },
     "metadata": {},
     "execution_count": 1
    }
   ],
   "source": [
    "import pandas as pd \n",
    "\n",
    "file = 'Resources/dont_touch_me.csv'\n",
    "\n",
    "df = pd.read_csv(file)\n",
    "df.head()"
   ]
  },
  {
   "cell_type": "code",
   "execution_count": 3,
   "metadata": {},
   "outputs": [
    {
     "output_type": "execute_result",
     "data": {
      "text/plain": [
       "text              12051\n",
       "grade             12051\n",
       "date_time         12051\n",
       "time_of_day       12051\n",
       "season            12051\n",
       "duration          12051\n",
       "city              12051\n",
       "state             12051\n",
       "shape_reported    12051\n",
       "shape             12051\n",
       "shape_category    12051\n",
       "dtype: int64"
      ]
     },
     "metadata": {},
     "execution_count": 3
    }
   ],
   "source": [
    "\n",
    "df = df.dropna()\n"
   ]
  },
  {
   "cell_type": "code",
   "execution_count": 9,
   "metadata": {},
   "outputs": [
    {
     "output_type": "execute_result",
     "data": {
      "text/plain": [
       "             state abbrev\n",
       "0          Alabama     AL\n",
       "1           Alaska     AK\n",
       "2          Arizona     AZ\n",
       "3         Arkansas     AR\n",
       "4       California     CA\n",
       "5         Colorado     CO\n",
       "6      Connecticut     CT\n",
       "7         Delaware     DE\n",
       "8          Florida     FL\n",
       "9          Georgia     GA\n",
       "10          Hawaii     HI\n",
       "11           Idaho     ID\n",
       "12        Illinois     IL\n",
       "13         Indiana     IN\n",
       "14            Iowa     IA\n",
       "15          Kansas     KS\n",
       "16        Kentucky     KY\n",
       "17       Louisiana     LA\n",
       "18           Maine     ME\n",
       "19        Maryland     MD\n",
       "20   Massachusetts     MA\n",
       "21        Michigan     MI\n",
       "22       Minnesota     MN\n",
       "23     Mississippi     MS\n",
       "24        Missouri     MO\n",
       "25         Montana     MT\n",
       "26        Nebraska     NE\n",
       "27          Nevada     NV\n",
       "28   New Hampshire     NH\n",
       "29      New Jersey     NJ\n",
       "30      New Mexico     NM\n",
       "31        New York     NY\n",
       "32  North Carolina     NC\n",
       "33    North Dakota     ND\n",
       "34            Ohio     OH\n",
       "35        Oklahoma     OK\n",
       "36          Oregon     OR\n",
       "37    Pennsylvania     PA\n",
       "38    Rhode Island     RI\n",
       "39  South Carolina     SC\n",
       "40    South Dakota     SD\n",
       "41       Tennessee     TN\n",
       "42           Texas     TX\n",
       "43            Utah     UT\n",
       "44         Vermont     VT\n",
       "45        Virginia     VA\n",
       "46      Washington     WA\n",
       "47   West Virginia     WV\n",
       "48       Wisconsin     WI\n",
       "49         Wyoming     WY"
      ],
      "text/html": "<div>\n<style scoped>\n    .dataframe tbody tr th:only-of-type {\n        vertical-align: middle;\n    }\n\n    .dataframe tbody tr th {\n        vertical-align: top;\n    }\n\n    .dataframe thead th {\n        text-align: right;\n    }\n</style>\n<table border=\"1\" class=\"dataframe\">\n  <thead>\n    <tr style=\"text-align: right;\">\n      <th></th>\n      <th>state</th>\n      <th>abbrev</th>\n    </tr>\n  </thead>\n  <tbody>\n    <tr>\n      <th>0</th>\n      <td>Alabama</td>\n      <td>AL</td>\n    </tr>\n    <tr>\n      <th>1</th>\n      <td>Alaska</td>\n      <td>AK</td>\n    </tr>\n    <tr>\n      <th>2</th>\n      <td>Arizona</td>\n      <td>AZ</td>\n    </tr>\n    <tr>\n      <th>3</th>\n      <td>Arkansas</td>\n      <td>AR</td>\n    </tr>\n    <tr>\n      <th>4</th>\n      <td>California</td>\n      <td>CA</td>\n    </tr>\n    <tr>\n      <th>5</th>\n      <td>Colorado</td>\n      <td>CO</td>\n    </tr>\n    <tr>\n      <th>6</th>\n      <td>Connecticut</td>\n      <td>CT</td>\n    </tr>\n    <tr>\n      <th>7</th>\n      <td>Delaware</td>\n      <td>DE</td>\n    </tr>\n    <tr>\n      <th>8</th>\n      <td>Florida</td>\n      <td>FL</td>\n    </tr>\n    <tr>\n      <th>9</th>\n      <td>Georgia</td>\n      <td>GA</td>\n    </tr>\n    <tr>\n      <th>10</th>\n      <td>Hawaii</td>\n      <td>HI</td>\n    </tr>\n    <tr>\n      <th>11</th>\n      <td>Idaho</td>\n      <td>ID</td>\n    </tr>\n    <tr>\n      <th>12</th>\n      <td>Illinois</td>\n      <td>IL</td>\n    </tr>\n    <tr>\n      <th>13</th>\n      <td>Indiana</td>\n      <td>IN</td>\n    </tr>\n    <tr>\n      <th>14</th>\n      <td>Iowa</td>\n      <td>IA</td>\n    </tr>\n    <tr>\n      <th>15</th>\n      <td>Kansas</td>\n      <td>KS</td>\n    </tr>\n    <tr>\n      <th>16</th>\n      <td>Kentucky</td>\n      <td>KY</td>\n    </tr>\n    <tr>\n      <th>17</th>\n      <td>Louisiana</td>\n      <td>LA</td>\n    </tr>\n    <tr>\n      <th>18</th>\n      <td>Maine</td>\n      <td>ME</td>\n    </tr>\n    <tr>\n      <th>19</th>\n      <td>Maryland</td>\n      <td>MD</td>\n    </tr>\n    <tr>\n      <th>20</th>\n      <td>Massachusetts</td>\n      <td>MA</td>\n    </tr>\n    <tr>\n      <th>21</th>\n      <td>Michigan</td>\n      <td>MI</td>\n    </tr>\n    <tr>\n      <th>22</th>\n      <td>Minnesota</td>\n      <td>MN</td>\n    </tr>\n    <tr>\n      <th>23</th>\n      <td>Mississippi</td>\n      <td>MS</td>\n    </tr>\n    <tr>\n      <th>24</th>\n      <td>Missouri</td>\n      <td>MO</td>\n    </tr>\n    <tr>\n      <th>25</th>\n      <td>Montana</td>\n      <td>MT</td>\n    </tr>\n    <tr>\n      <th>26</th>\n      <td>Nebraska</td>\n      <td>NE</td>\n    </tr>\n    <tr>\n      <th>27</th>\n      <td>Nevada</td>\n      <td>NV</td>\n    </tr>\n    <tr>\n      <th>28</th>\n      <td>New Hampshire</td>\n      <td>NH</td>\n    </tr>\n    <tr>\n      <th>29</th>\n      <td>New Jersey</td>\n      <td>NJ</td>\n    </tr>\n    <tr>\n      <th>30</th>\n      <td>New Mexico</td>\n      <td>NM</td>\n    </tr>\n    <tr>\n      <th>31</th>\n      <td>New York</td>\n      <td>NY</td>\n    </tr>\n    <tr>\n      <th>32</th>\n      <td>North Carolina</td>\n      <td>NC</td>\n    </tr>\n    <tr>\n      <th>33</th>\n      <td>North Dakota</td>\n      <td>ND</td>\n    </tr>\n    <tr>\n      <th>34</th>\n      <td>Ohio</td>\n      <td>OH</td>\n    </tr>\n    <tr>\n      <th>35</th>\n      <td>Oklahoma</td>\n      <td>OK</td>\n    </tr>\n    <tr>\n      <th>36</th>\n      <td>Oregon</td>\n      <td>OR</td>\n    </tr>\n    <tr>\n      <th>37</th>\n      <td>Pennsylvania</td>\n      <td>PA</td>\n    </tr>\n    <tr>\n      <th>38</th>\n      <td>Rhode Island</td>\n      <td>RI</td>\n    </tr>\n    <tr>\n      <th>39</th>\n      <td>South Carolina</td>\n      <td>SC</td>\n    </tr>\n    <tr>\n      <th>40</th>\n      <td>South Dakota</td>\n      <td>SD</td>\n    </tr>\n    <tr>\n      <th>41</th>\n      <td>Tennessee</td>\n      <td>TN</td>\n    </tr>\n    <tr>\n      <th>42</th>\n      <td>Texas</td>\n      <td>TX</td>\n    </tr>\n    <tr>\n      <th>43</th>\n      <td>Utah</td>\n      <td>UT</td>\n    </tr>\n    <tr>\n      <th>44</th>\n      <td>Vermont</td>\n      <td>VT</td>\n    </tr>\n    <tr>\n      <th>45</th>\n      <td>Virginia</td>\n      <td>VA</td>\n    </tr>\n    <tr>\n      <th>46</th>\n      <td>Washington</td>\n      <td>WA</td>\n    </tr>\n    <tr>\n      <th>47</th>\n      <td>West Virginia</td>\n      <td>WV</td>\n    </tr>\n    <tr>\n      <th>48</th>\n      <td>Wisconsin</td>\n      <td>WI</td>\n    </tr>\n    <tr>\n      <th>49</th>\n      <td>Wyoming</td>\n      <td>WY</td>\n    </tr>\n  </tbody>\n</table>\n</div>"
     },
     "metadata": {},
     "execution_count": 9
    }
   ],
   "source": [
    "state_stuff = 'Resources/state_abbrev.csv'\n",
    "state_data = pd.read_csv(state_stuff)\n",
    "for i in range(50):\n",
    "    state_data['abbrev'][i] = state_data['abbrev'][i].upper()\n",
    "\n"
   ]
  },
  {
   "cell_type": "code",
   "execution_count": null,
   "metadata": {},
   "outputs": [],
   "source": []
  }
 ]
}